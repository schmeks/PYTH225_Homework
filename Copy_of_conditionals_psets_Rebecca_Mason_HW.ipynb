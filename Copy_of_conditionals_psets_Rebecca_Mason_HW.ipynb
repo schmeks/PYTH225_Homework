{
  "nbformat": 4,
  "nbformat_minor": 0,
  "metadata": {
    "colab": {
      "name": "Copy of conditionals_psets_Rebecca Mason HW.ipynb",
      "provenance": [],
      "collapsed_sections": [
        "gijpYMCLV00L",
        "c70y61m1Vtn3",
        "zayFQdU7Vto2"
      ],
      "include_colab_link": true
    },
    "kernelspec": {
      "name": "python3",
      "display_name": "Python 3"
    }
  },
  "cells": [
    {
      "cell_type": "markdown",
      "metadata": {
        "id": "view-in-github",
        "colab_type": "text"
      },
      "source": [
        "<a href=\"https://colab.research.google.com/github/schmeks/PYTH225_Homework/blob/master/Copy_of_conditionals_psets_Rebecca_Mason_HW.ipynb\" target=\"_parent\"><img src=\"https://colab.research.google.com/assets/colab-badge.svg\" alt=\"Open In Colab\"/></a>"
      ]
    },
    {
      "cell_type": "markdown",
      "metadata": {
        "id": "FiL9pv11VtnR",
        "colab_type": "text"
      },
      "source": [
        "#  CONDITIONALS\n",
        "\n",
        "\n"
      ]
    },
    {
      "cell_type": "markdown",
      "metadata": {
        "id": "gijpYMCLV00L",
        "colab_type": "text"
      },
      "source": [
        "## WEATHER"
      ]
    },
    {
      "cell_type": "markdown",
      "metadata": {
        "id": "KL7ytXn4V2WB",
        "colab_type": "text"
      },
      "source": [
        "### P1.PY"
      ]
    },
    {
      "cell_type": "code",
      "metadata": {
        "id": "e32ChHBAVtnU",
        "colab_type": "code",
        "outputId": "aa451932-6828-4901-b54e-9a5a8ba532e2",
        "colab": {
          "base_uri": "https://localhost:8080/",
          "height": 85
        }
      },
      "source": [
        "\"\"\"\n",
        "Weather I - Do you need boots?\n",
        "\"\"\"\n",
        "\n",
        "# Use the values of the vars defined below to ouput the correct contextual \n",
        "# answer to the questions below. (Note: The variables themselves ARE the questions.)\n",
        "\n",
        "# Example:\n",
        "## am_i_hungry = False\n",
        "## am_i_tired = True\n",
        "## do_i_need_to_stay_awake = False\n",
        "\n",
        "## should_i_drink_coffee_now = am_i_tired and do_i_need_to_stay_awake\n",
        "\n",
        "## ^^ This ^^ evaluates to False. If you're tired and don't need to stay awake, you don't need to drink coffee!\n",
        "\n",
        "\n",
        "is_it_raining = True\n",
        "is_it_snowing = False\n",
        "\n",
        "\n",
        "do_i_need_snow_boots = is_it_snowing == True\n",
        "print(do_i_need_snow_boots)\n",
        "can_i_skip_snow_boots = is_it_snowing == False\n",
        "print(can_i_skip_snow_boots)\n",
        "do_i_need_rain_boots = is_it_raining == True\n",
        "print(do_i_need_rain_boots)\n",
        "can_i_skip_rain_boots = is_it_raining == False\n",
        "print(can_i_skip_rain_boots)\n",
        "\n"
      ],
      "execution_count": 0,
      "outputs": [
        {
          "output_type": "stream",
          "text": [
            "False\n",
            "True\n",
            "True\n",
            "False\n"
          ],
          "name": "stdout"
        }
      ]
    },
    {
      "cell_type": "markdown",
      "metadata": {
        "id": "t9cxGL-8VtnX",
        "colab_type": "text"
      },
      "source": [
        "\n",
        "\n",
        "### P2.PY\n",
        "\n",
        "\n"
      ]
    },
    {
      "cell_type": "code",
      "metadata": {
        "id": "y80DTzliVtnY",
        "colab_type": "code",
        "outputId": "752d68fa-f087-42ec-a45b-a9efc97f2181",
        "colab": {
          "base_uri": "https://localhost:8080/",
          "height": 85
        }
      },
      "source": [
        "\"\"\"\n",
        "Weather II - Precipitation\n",
        "\"\"\"\n",
        "\n",
        "# Repeat the same process as p1, using this new set of variables.\n",
        "\n",
        "sunny = True\n",
        "raining = True\n",
        "snowing = False\n",
        "\n",
        "is_it_sunny = sunny\n",
        "print(is_it_sunny)\n",
        "is_there_precipitation = raining or snowing\n",
        "print(is_there_precipitation)\n",
        "is_it_sleeting = raining and snowing\n",
        "print(is_it_sleeting)\n",
        "is_there_rainbow = sunny and raining\n",
        "print(is_there_rainbow)"
      ],
      "execution_count": 0,
      "outputs": [
        {
          "output_type": "stream",
          "text": [
            "True\n",
            "True\n",
            "False\n",
            "True\n"
          ],
          "name": "stdout"
        }
      ]
    },
    {
      "cell_type": "markdown",
      "metadata": {
        "id": "777sx1WCVtno",
        "colab_type": "text"
      },
      "source": [
        "\n",
        "\n",
        "### P3.PY\n",
        "\n",
        "\n"
      ]
    },
    {
      "cell_type": "code",
      "metadata": {
        "id": "9dNGqX2wVtnp",
        "colab_type": "code",
        "outputId": "bf54684d-9421-4219-f5c9-e0f0b7579b29",
        "colab": {
          "base_uri": "https://localhost:8080/",
          "height": 85
        }
      },
      "source": [
        "\"\"\"\n",
        "Weather III - Describe Conditions\n",
        "\"\"\"\n",
        "\n",
        "# Repeat the same process as p1, using this new set of variables.\n",
        "\n",
        "\n",
        "is_it_warm = True\n",
        "is_it_humid = True\n",
        "is_it_cold = False\n",
        "is_it_icy = False\n",
        "is_it_foggy = False\n",
        "is_it_windy = False\n",
        "is_it_overcast = True\n",
        "\n",
        "\n",
        "is_it_summer_weather = is_it_warm and is_it_humid\n",
        "print(is_it_summer_weather)\n",
        "is_rain_coming = is_it_overcast and is_it_humid\n",
        "print(is_rain_coming)\n",
        "is_it_muggy = is_it_humid and is_it_foggy\n",
        "print(is_it_muggy)\n",
        "do_i_need_coat = (is_it_cold or is_it_icy) and is_it_windy\n",
        "print(do_i_need_coat)\n",
        "\n"
      ],
      "execution_count": 0,
      "outputs": [
        {
          "output_type": "stream",
          "text": [
            "True\n",
            "True\n",
            "False\n",
            "False\n"
          ],
          "name": "stdout"
        }
      ]
    },
    {
      "cell_type": "markdown",
      "metadata": {
        "id": "c70y61m1Vtn3",
        "colab_type": "text"
      },
      "source": [
        "## LOGIC\n",
        "\n",
        "\n"
      ]
    },
    {
      "cell_type": "markdown",
      "metadata": {
        "id": "6IGtJU8oV5a8",
        "colab_type": "text"
      },
      "source": [
        "### P1.PY"
      ]
    },
    {
      "cell_type": "code",
      "metadata": {
        "id": "8dx3WRHBVtn4",
        "colab_type": "code",
        "colab": {
          "base_uri": "https://localhost:8080/",
          "height": 34
        },
        "outputId": "181b0d42-6941-406a-c828-5e52f06de8b9"
      },
      "source": [
        "\"\"\"\n",
        "Calculate Grade\n",
        "\"\"\"\n",
        "\n",
        "grade = 115  # expect this to be a number\n",
        "\n",
        "# write a program that will print the \"letter\"\n",
        "# equivalent of the grade, for example:\n",
        "# when grade = 90 # -> expect A\n",
        "# when grade = 80 # -> expect B\n",
        "# when grade = 70 # -> expect C\n",
        "# when grade = 60 # -> expect D\n",
        "# when grade = 54 # -> expect F\n",
        "# when grade = -10 # -> expect Error\n",
        "# when grade = 10000 # -> expect Error\n",
        "# when grade = \"lol skool sucks\" # -> expect Error\n",
        "\n",
        "if type(grade) == str:\n",
        "    print('Error')\n",
        "elif grade > 100 or grade < 0:\n",
        "  print('Error')\n",
        "elif grade >= 90:\n",
        "    print('A')\n",
        "elif grade >= 80:\n",
        "    print('B')\n",
        "elif grade >= 70:\n",
        "    print('C')\n",
        "elif grade >= 60:\n",
        "    print('D')\n",
        "elif grade < 60:\n",
        "    print('F')\n",
        "else:\n",
        "    print('Error')\n"
      ],
      "execution_count": 30,
      "outputs": [
        {
          "output_type": "stream",
          "text": [
            "Error\n"
          ],
          "name": "stdout"
        }
      ]
    },
    {
      "cell_type": "markdown",
      "metadata": {
        "id": "HLfJLQFKVtoK",
        "colab_type": "text"
      },
      "source": [
        "\n",
        "\n",
        "### P2.PY\n",
        "\n",
        "\n"
      ]
    },
    {
      "cell_type": "code",
      "metadata": {
        "id": "g3fT3CxqVtoO",
        "colab_type": "code",
        "colab": {
          "base_uri": "https://localhost:8080/",
          "height": 34
        },
        "outputId": "7ffa4dfe-aa74-4de3-a5d7-3899f837ffd2"
      },
      "source": [
        "\"\"\"\n",
        "Sign of Product\n",
        "\"\"\"\n",
        "\n",
        "# Given three numbers, a, b, c, without multiplying, determine the sign of their product.\n",
        "\n",
        "# EXAMPLE: a = -5, b = 6, c = -4, print 1\n",
        "\n",
        "# EXAMPLE: a = 5, b = 6, c = -4, print -1\n",
        "\n",
        "a = 7\n",
        "b = -7\n",
        "c = -7\n",
        "\n",
        "if a < 0 and b > 0 and c > 0:\n",
        "  print(-1)\n",
        "elif a > 0 and b < 0 and c > 0:\n",
        "  print(-1)\n",
        "elif a > 0 and b > 0 and c < 0:\n",
        "  print(-1)\n",
        "elif a < 0 and b < 0 and c > 0:\n",
        "  print(1)\n",
        "elif a > 0 and b > 0 and c > 0:\n",
        "  print(1)\n",
        "elif a < 0 and b > 0 and c < 0:\n",
        "  print(1)\n",
        "elif a > 0 and b < 0 and c > 0:\n",
        "  print(1)\n",
        "elif a > 0 and b < 0 and c < 0:\n",
        "  print(1)\n",
        "\n",
        "else: \n",
        "  print(\"error\")"
      ],
      "execution_count": 27,
      "outputs": [
        {
          "output_type": "stream",
          "text": [
            "1\n"
          ],
          "name": "stdout"
        }
      ]
    },
    {
      "cell_type": "markdown",
      "metadata": {
        "id": "eUuhYKriVtoS",
        "colab_type": "text"
      },
      "source": [
        "\n",
        "\n",
        "### P3.PY\n",
        "\n",
        "\n"
      ]
    },
    {
      "cell_type": "code",
      "metadata": {
        "id": "gtAMAAaYVtoT",
        "colab_type": "code",
        "outputId": "1777ae51-73e4-41c0-8285-c35bb27ea322",
        "colab": {
          "base_uri": "https://localhost:8080/",
          "height": 34
        }
      },
      "source": [
        "\"\"\"\n",
        "Any Uppercase\n",
        "\"\"\"\n",
        "\n",
        "# Given a string str, determine if there are any uppercase values in it. Use only conditional statements and string methods (you may have to look some up!)\n",
        "\n",
        "# EXAMPLE: str = \"teSt\", print True\n",
        "\n",
        "str = \"hello worlD\"\n",
        "\n",
        "contains_uppercase = str.islower() == False\n",
        "print(contains_uppercase) "
      ],
      "execution_count": 0,
      "outputs": [
        {
          "output_type": "stream",
          "text": [
            "True\n"
          ],
          "name": "stdout"
        }
      ]
    },
    {
      "cell_type": "markdown",
      "metadata": {
        "id": "wG8CE6QTVtoW",
        "colab_type": "text"
      },
      "source": [
        "\n",
        "\n",
        "### P4.PY\n",
        "\n",
        "\n"
      ]
    },
    {
      "cell_type": "code",
      "metadata": {
        "id": "xZ5Mt4jSVtoX",
        "colab_type": "code",
        "outputId": "b5cc3833-e576-42b5-9db5-76026eb97598",
        "colab": {
          "base_uri": "https://localhost:8080/",
          "height": 34
        }
      },
      "source": [
        "\"\"\"\n",
        "Empty Strings\n",
        "\"\"\"\n",
        "\n",
        "# Given any empty string, of the form:\n",
        "\n",
        "# ''\n",
        "# ' '\n",
        "# '  '\n",
        "# any other num of spaces...\n",
        "\n",
        "# determine if the str is empty or not (print True or False). Hint: You'll need to look up how to remove trailing spaces from a string.\n",
        "\n",
        "str = ''\n",
        "is_string_empty = bool(str.strip()) == True\n",
        "print(is_string_empty)\n",
        "\n"
      ],
      "execution_count": 0,
      "outputs": [
        {
          "output_type": "stream",
          "text": [
            "False\n"
          ],
          "name": "stdout"
        }
      ]
    },
    {
      "cell_type": "markdown",
      "metadata": {
        "id": "WlgQdALoVtof",
        "colab_type": "text"
      },
      "source": [
        "\n",
        "\n",
        "### P5.PY\n",
        "\n",
        "\n"
      ]
    },
    {
      "cell_type": "code",
      "metadata": {
        "id": "7_k9rebsVtog",
        "colab_type": "code",
        "colab": {
          "base_uri": "https://localhost:8080/",
          "height": 68
        },
        "outputId": "5b33c4f9-07a0-4fee-8abd-0875e3b1beca"
      },
      "source": [
        "\"\"\"\n",
        "truthTableEvaluator\n",
        "\"\"\"\n",
        "\n",
        "# Given the following inputs:\n",
        "\n",
        "\n",
        "# P = # True or False\n",
        "# Q = # True or False\n",
        "# op = # '^' (logical AND, conjunction)\n",
        "#      # OR, 'v' (logical OR, disjunction)\n",
        "#      # OR, '->' (logical conditional, implication)\n",
        "#      # OR, '<->' (biconditional)\n",
        "# determine the correct outcome.\n",
        "\n",
        "# https://medium.com/i-math/intro-to-truth-tables-boolean-algebra-73b331dd9b94\n",
        "\n",
        "P = True\n",
        "Q = False\n",
        "\n",
        "op = \"\"\"\n",
        "I have no idea what question you're asking me to answer here\n",
        "\"\"\"\n",
        "print(op)"
      ],
      "execution_count": 53,
      "outputs": [
        {
          "output_type": "stream",
          "text": [
            "\n",
            "I have no idea what question you're asking me to answer here\n",
            "\n"
          ],
          "name": "stdout"
        }
      ]
    },
    {
      "cell_type": "markdown",
      "metadata": {
        "id": "zayFQdU7Vto2",
        "colab_type": "text"
      },
      "source": [
        "## RANDOM NUMBERS\n",
        "\n",
        "\n",
        "\n",
        "\n"
      ]
    },
    {
      "cell_type": "markdown",
      "metadata": {
        "id": "gtAK4fQAV9BC",
        "colab_type": "text"
      },
      "source": [
        "### P1.PY"
      ]
    },
    {
      "cell_type": "code",
      "metadata": {
        "id": "_dlFvP4QVto3",
        "colab_type": "code",
        "colab": {
          "base_uri": "https://localhost:8080/",
          "height": 34
        },
        "outputId": "8ca0c793-91cf-472d-e51e-9219f1004d50"
      },
      "source": [
        "\"\"\"\n",
        "Generate Traffic Light\n",
        "\"\"\"\n",
        "\n",
        "# import python randomint package\n",
        "\n",
        "\n",
        "# generates a random number from 1 to 3\n",
        "\n",
        "\n",
        "# if 1, print 'red'\n",
        "# if 2, print 'green',\n",
        "# if 3, print 'yellow'\n",
        "\n",
        "import random\n",
        "\n",
        "number = random.randint(1, 3)\n",
        "\n",
        "if number < 2:\n",
        "  print('red')\n",
        "elif number > 2:\n",
        "  print('yellow')\n",
        "else: \n",
        "  print('green')\n"
      ],
      "execution_count": 29,
      "outputs": [
        {
          "output_type": "stream",
          "text": [
            "yellow\n"
          ],
          "name": "stdout"
        }
      ]
    },
    {
      "cell_type": "markdown",
      "metadata": {
        "id": "nO0LSd8SVto5",
        "colab_type": "text"
      },
      "source": [
        "\n",
        "\n",
        "### P2.PY\n",
        "\n",
        "\n"
      ]
    },
    {
      "cell_type": "code",
      "metadata": {
        "id": "Dp5jFc2fVtpF",
        "colab_type": "code",
        "colab": {
          "base_uri": "https://localhost:8080/",
          "height": 34
        },
        "outputId": "cb0c6a73-df85-4703-b51f-15cca8728fa6"
      },
      "source": [
        "\"\"\"\n",
        "Generate Phone Number w/Area Code\n",
        "\"\"\"\n",
        "\n",
        "# Generate a random phone number using these SPECS:\n",
        "### Should be a string in this format: 1-718-786-2825\n",
        "### Must randomly choose one of these area codes: 646, 718, 212\n",
        "\n",
        "import random\n",
        "\n",
        "rand = random.randint(1,3)\n",
        "firstnumber = random.randint(2,9)\n",
        "second = random.randint(2,9)\n",
        "third = random.randint(1,9)\n",
        "fourth = random.randint(1,9)\n",
        "fifth = random.randint(1,9)\n",
        "sixth = random.randint(1,9)\n",
        "seventh = random.randint(1,9)\n",
        "\n",
        "if rand == 1:\n",
        "  area_code = 646\n",
        "elif rand == 2:\n",
        "  area_code = 718\n",
        "else:\n",
        "  area_code = 212\n",
        "\n",
        "number = (f'1-{area_code}-{firstnumber}{second}{third}-{fourth}{fifth}{sixth}{seventh}')\n",
        "\n",
        "print(number)"
      ],
      "execution_count": 44,
      "outputs": [
        {
          "output_type": "stream",
          "text": [
            "1-212-543-4738\n"
          ],
          "name": "stdout"
        }
      ]
    },
    {
      "cell_type": "markdown",
      "metadata": {
        "id": "gRweE3nDVtpK",
        "colab_type": "text"
      },
      "source": [
        "## RPS\n",
        "\n",
        "\n"
      ]
    },
    {
      "cell_type": "markdown",
      "metadata": {
        "id": "IFUwrDumV_Vn",
        "colab_type": "text"
      },
      "source": [
        "### P1.PY"
      ]
    },
    {
      "cell_type": "code",
      "metadata": {
        "id": "sYTmAYzDVtpL",
        "colab_type": "code",
        "colab": {
          "base_uri": "https://localhost:8080/",
          "height": 34
        },
        "outputId": "8b11ac06-80bd-4717-9f93-40b9fabcac0a"
      },
      "source": [
        "\"\"\"\n",
        "Play RPS\n",
        "\"\"\"\n",
        "\n",
        "p1 = 'r'  # or 'p' or 's'\n",
        "p2 = 'r'  # or 'p' or 's'\n",
        "\n",
        "# Given a p1 and p2\n",
        "# print 1 if p1 has won\n",
        "# print 2 if p2 has won\n",
        "# print 0 if tie\n",
        "# print -1 if invalid input\n",
        "# expects both p1 and p2 inputs to be either\n",
        "# \"r\", \"p\", or \"s\"\n",
        "\n",
        "\n",
        "import random\n",
        "p1_rand = random.randint(1,3)\n",
        "p2_rand = random.randint(1,3)\n",
        "\n",
        "if p1 == 'r' and p2 == 's':\n",
        "  print (1)\n",
        "elif p1 == 's' and p2 == 'p':\n",
        "  print(1)\n",
        "elif p1 == 'p' and p2 == 'r':\n",
        "  print(1)\n",
        "elif p2 == 'r' and p1 == 's':\n",
        "  print (2)\n",
        "elif p2 == 's' and p1 == 'p':\n",
        "  print(2)\n",
        "elif p2 == 'p' and p1 == 'r':\n",
        "  print(2)\n",
        "elif p1 == p2:\n",
        "  print(0)\n",
        "else: \n",
        "  print(-1)"
      ],
      "execution_count": 47,
      "outputs": [
        {
          "output_type": "stream",
          "text": [
            "0\n"
          ],
          "name": "stdout"
        }
      ]
    },
    {
      "cell_type": "markdown",
      "metadata": {
        "id": "fp77AykMVtpN",
        "colab_type": "text"
      },
      "source": [
        "\n",
        "\n",
        "### P2.PY\n",
        "\n",
        "\n"
      ]
    },
    {
      "cell_type": "code",
      "metadata": {
        "id": "mKMaxGH8VtpO",
        "colab_type": "code",
        "colab": {
          "base_uri": "https://localhost:8080/",
          "height": 68
        },
        "outputId": "dbc9ebec-b4c0-44e5-d9af-5aab5835a181"
      },
      "source": [
        "\"\"\"\n",
        "Play RPS w/Computer\n",
        "\"\"\"\n",
        "\n",
        "import random\n",
        "\n",
        "p1 = None  # randomly choose 'r' or 'p' or 's'\n",
        "p2 = None  # randomly choose 'r' or 'p' or 's'\n",
        "\n",
        "# Given a p1 and p2\n",
        "# print 1 if p1 has won\n",
        "# print 2 if p2 has won\n",
        "# print 0 if tie\n",
        "# print -1 if invalid input\n",
        "# expects both p1 and p2 inputs to be either\n",
        "# \"r\", \"p\", or \"s\"\n",
        "\n",
        "p1_rand = random.randint(1,3)\n",
        "p2_rand = random.randint(1,3)\n",
        "\n",
        "if p1_rand == 1:\n",
        "  p1 = 'r'\n",
        "elif p1_rand ==2:\n",
        "  p1 = 'p'\n",
        "else:\n",
        "  p1 ='s'\n",
        "\n",
        "print(p1)\n",
        "\n",
        "if p2_rand == 1:\n",
        "  p2 = 'r'\n",
        "elif p2_rand ==2:\n",
        "  p2 = 'p'\n",
        "else:\n",
        "  p2 ='s'\n",
        "\n",
        "print(p2)\n",
        "\n",
        "if p1 == 'r' and p2 == 's':\n",
        "  print (1)\n",
        "elif p1 == 's' and p2 == 'p':\n",
        "  print(1)\n",
        "elif p1 == 'p' and p2 == 'r':\n",
        "  print(1)\n",
        "elif p2 == 'r' and p1 == 's':\n",
        "  print (2)\n",
        "elif p2 == 's' and p1 == 'p':\n",
        "  print(2)\n",
        "elif p2 == 'p' and p1 == 'r':\n",
        "  print(2)\n",
        "elif p1 == p2:\n",
        "  print(0)\n",
        "else: \n",
        "  print(-1)"
      ],
      "execution_count": 52,
      "outputs": [
        {
          "output_type": "stream",
          "text": [
            "r\n",
            "p\n",
            "2\n"
          ],
          "name": "stdout"
        }
      ]
    },
    {
      "cell_type": "markdown",
      "metadata": {
        "id": "INgOFvdoVtpU",
        "colab_type": "text"
      },
      "source": [
        "\n",
        "\n",
        "### P3.PY\n",
        "\n",
        "\n"
      ]
    },
    {
      "cell_type": "code",
      "metadata": {
        "id": "vhAAHjMSVtpV",
        "colab_type": "code",
        "colab": {
          "base_uri": "https://localhost:8080/",
          "height": 85
        },
        "outputId": "f1187774-d768-473b-d5f9-e0e6f3a8d66b"
      },
      "source": [
        "\"\"\"\n",
        "Play RPS w/Input\n",
        "\"\"\"\n",
        "\n",
        "p1 = None  # from user input\n",
        "p2 = None  # from user input\n",
        "\n",
        "# Given a p1 and p2\n",
        "# print 1 if p1 has won\n",
        "# print 2 if p2 has won\n",
        "# print 0 if tie\n",
        "# print -1 if invalid input\n",
        "# expects both p1 and p2 inputs to be either\n",
        "# \"r\", \"p\", or \"s\"\n",
        "\n",
        "p1 = input('Enter P1 selection:')\n",
        "p2 = input('Enter P2 selection:')\n",
        "\n",
        "\n",
        "if p1 == 'r' and p2 == 's':\n",
        "  print (1)\n",
        "elif p1 == 's' and p2 == 'p':\n",
        "  print(1)\n",
        "elif p1 == 'p' and p2 == 'r':\n",
        "  print(1)\n",
        "elif p2 == 'r' and p1 == 's':\n",
        "  print (2)\n",
        "elif p2 == 's' and p1 == 'p':\n",
        "  print(2)\n",
        "elif p2 == 'p' and p1 == 'r':\n",
        "  print(2)\n",
        "elif p1 == p2:\n",
        "  print(0)\n",
        "else: \n",
        "  print(-1)\n",
        "  print(\"Inputs must be 'r', 'p', or 's'\")"
      ],
      "execution_count": 56,
      "outputs": [
        {
          "output_type": "stream",
          "text": [
            "Enter P1 selection:x\n",
            "Enter P2 selection:p\n",
            "-1\n",
            "Inputs must be 'r', 'p', or 's'\n"
          ],
          "name": "stdout"
        }
      ]
    },
    {
      "cell_type": "markdown",
      "metadata": {
        "id": "SUqNu57OVtpY",
        "colab_type": "text"
      },
      "source": [
        "\n",
        "\n",
        "### P4.PY\n",
        "\n",
        "\n"
      ]
    },
    {
      "cell_type": "code",
      "metadata": {
        "id": "Vmlr5AqSVtpY",
        "colab_type": "code",
        "colab": {
          "base_uri": "https://localhost:8080/",
          "height": 68
        },
        "outputId": "85426f5e-59e0-4800-d3d2-9e1f2e268ccb"
      },
      "source": [
        "\"\"\"\n",
        "Play RPS against Computer\n",
        "\"\"\"\n",
        "\n",
        "p1 = None  # from user input - we still want validation from above!\n",
        "p2 = None  # randomly generated against computer\n",
        "\n",
        "# Given a p1 and p2\n",
        "# print 1 if p1 has won\n",
        "# print 2 if p2 has won\n",
        "# print 0 if tie\n",
        "# print -1 if invalid input\n",
        "# expects both p1 and p2 inputs to be either\n",
        "# \"r\", \"p\", or \"s\"\n",
        "\n",
        "p1 = input('Enter P1 selection:')\n",
        "\n",
        "p2_rand = random.randint(1,3)\n",
        "\n",
        "if p2_rand == 1:\n",
        "  p2 = 'r'\n",
        "elif p2_rand ==2:\n",
        "  p2 = 'p'\n",
        "else:\n",
        "  p2 ='s'\n",
        "\n",
        "print(p2)\n",
        "\n",
        "if p1 == 'r' and p2 == 's':\n",
        "  print (1)\n",
        "elif p1 == 's' and p2 == 'p':\n",
        "  print(1)\n",
        "elif p1 == 'p' and p2 == 'r':\n",
        "  print(1)\n",
        "elif p2 == 'r' and p1 == 's':\n",
        "  print (2)\n",
        "elif p2 == 's' and p1 == 'p':\n",
        "  print(2)\n",
        "elif p2 == 'p' and p1 == 'r':\n",
        "  print(2)\n",
        "elif p1 == p2:\n",
        "  print(0)\n",
        "else: \n",
        "  print(-1)\n",
        "  print(\"Inputs must be 'r', 'p', or 's'\")"
      ],
      "execution_count": 59,
      "outputs": [
        {
          "output_type": "stream",
          "text": [
            "Enter P1 selection:s\n",
            "p\n",
            "1\n"
          ],
          "name": "stdout"
        }
      ]
    },
    {
      "cell_type": "markdown",
      "metadata": {
        "id": "F_7aaMtoVtpt",
        "colab_type": "text"
      },
      "source": [
        "\n",
        "\n",
        "### P5.PY\n",
        "\n",
        "\n"
      ]
    },
    {
      "cell_type": "code",
      "metadata": {
        "id": "U24EGu3VVtpu",
        "colab_type": "code",
        "colab": {}
      },
      "source": [
        "\"\"\"\n",
        "Play RPS w/Bad Input\n",
        "\"\"\"\n",
        "\n",
        "p1 = None  # can be invalid!\n",
        "p2 = None  # can be invalid!\n",
        "\n",
        "\"\"\"\n",
        "This is the same as the original RPS problem, \n",
        "except that cannot expect the input to be valid. \n",
        "While we *want* `r` or `p` or `s`, there is a possibility \n",
        "that input can be anything like...\n",
        "\n",
        "* `ROCK` (all caps)\n",
        "* `R` (`r` but capitalized)\n",
        "* `PAPrrRR` (incorrectly spelled, upper/lowercased)\n",
        "\n",
        "Implement conditional statements that will sanitize the \n",
        "user input or let user know that input is invalid.\n",
        "\"\"\"\n",
        "\n",
        "p1 = input('Enter P1 selection:')\n",
        "p2 = input('Enter P2 selection:')\n",
        "\n",
        "\n",
        "if p1 == 'r' and p2 == 's':\n",
        "  print (1)\n",
        "elif p1 == 's' and p2 == 'p':\n",
        "  print(1)\n",
        "elif p1 == 'p' and p2 == 'r':\n",
        "  print(1)\n",
        "elif p2 == 'r' and p1 == 's':\n",
        "  print (2)\n",
        "elif p2 == 's' and p1 == 'p':\n",
        "  print(2)\n",
        "elif p2 == 'p' and p1 == 'r':\n",
        "  print(2)\n",
        "elif p1 == p2:\n",
        "  print(0)\n",
        "else: \n",
        "  print(-1)\n",
        "  print(\"Inputs must be 'r', 'p', or 's'\")"
      ],
      "execution_count": 0,
      "outputs": []
    }
  ]
}