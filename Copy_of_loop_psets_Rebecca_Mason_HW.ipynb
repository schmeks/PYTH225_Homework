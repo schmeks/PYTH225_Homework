{
  "nbformat": 4,
  "nbformat_minor": 0,
  "metadata": {
    "colab": {
      "name": "Copy of loop_psets_Rebecca Mason HW.ipynb",
      "provenance": [],
      "collapsed_sections": [
        "uVRP-haTUEUp",
        "qujIvC8iUFsS",
        "NZoDldAJT-ZZ",
        "JiG0W3n3T-Ze",
        "337FvlPKUNqp",
        "aeUUzlj2T-Z5",
        "DGA_yKgt7KuB",
        "34_iw8-4T-Zl",
        "XQbSY6kYT-Zo",
        "HvXqnAyuT-Z8",
        "OU_s6uQgUQf-",
        "FSN_Wqyf8UnQ",
        "kE68tEQnT-aE",
        "I-A5Y-oo8Una",
        "wtaxsnSST-aH",
        "l7AOi4Xa8Une",
        "pCsSUlIBT-aK"
      ],
      "include_colab_link": true
    },
    "kernelspec": {
      "name": "python3",
      "display_name": "Python 3"
    }
  },
  "cells": [
    {
      "cell_type": "markdown",
      "metadata": {
        "id": "view-in-github",
        "colab_type": "text"
      },
      "source": [
        "<a href=\"https://colab.research.google.com/github/schmeks/PYTH225_Homework/blob/master/Copy_of_loop_psets_Rebecca_Mason_HW.ipynb\" target=\"_parent\"><img src=\"https://colab.research.google.com/assets/colab-badge.svg\" alt=\"Open In Colab\"/></a>"
      ]
    },
    {
      "cell_type": "markdown",
      "metadata": {
        "id": "rvLI0ikiT-ZV",
        "colab_type": "text"
      },
      "source": [
        "#  LOOPS"
      ]
    },
    {
      "cell_type": "markdown",
      "metadata": {
        "id": "uVRP-haTUEUp",
        "colab_type": "text"
      },
      "source": [
        "## BASICS"
      ]
    },
    {
      "cell_type": "markdown",
      "metadata": {
        "id": "qujIvC8iUFsS",
        "colab_type": "text"
      },
      "source": [
        "### P1.PY"
      ]
    },
    {
      "cell_type": "code",
      "metadata": {
        "id": "RiZnK5MMT-ZW",
        "colab_type": "code",
        "outputId": "e4b17582-6e11-465c-d300-efe52f167309",
        "colab": {
          "base_uri": "https://localhost:8080/",
          "height": 51
        }
      },
      "source": [
        "\"\"\"\n",
        "Odds & Evens\n",
        "\"\"\"\n",
        "\n",
        "# Use a loop to make a list of all odd numbers between 1 and 10 and another list with all the evens. When done, print the lists.\n",
        "\n",
        "# odds = \n",
        "\n",
        "# evens = \n",
        "\n",
        "odds = []\n",
        "evens = []\n",
        " \n",
        "i = 1\n",
        " \n",
        "while i <= 10:\n",
        "  if i % 2 != 0:\n",
        "    odds.append(i)\n",
        "  else:\n",
        "    evens.append(i)\n",
        "  i += 1\n",
        " \n",
        "print(odds,'\\n', evens)"
      ],
      "execution_count": 0,
      "outputs": [
        {
          "output_type": "stream",
          "text": [
            "[1, 3, 5, 7, 9] \n",
            " [2, 4, 6, 8, 10]\n"
          ],
          "name": "stdout"
        }
      ]
    },
    {
      "cell_type": "markdown",
      "metadata": {
        "id": "NZoDldAJT-ZZ",
        "colab_type": "text"
      },
      "source": [
        "\n",
        "\n",
        "### P2.PY\n",
        "\n",
        "\n"
      ]
    },
    {
      "cell_type": "code",
      "metadata": {
        "id": "6BxOPOuET-Za",
        "colab_type": "code",
        "outputId": "1d7904ff-8e3e-452b-f7cd-4f1343b2d0fb",
        "colab": {
          "base_uri": "https://localhost:8080/",
          "height": 0
        }
      },
      "source": [
        "\"\"\"\n",
        "Lists with Duplicates\n",
        "\"\"\"\n",
        "\n",
        "# First, print list a below as it is now.\n",
        "\n",
        "a = [2, 4, 10, 20, 5, 2, 20, 4]\n",
        "b = [13, 2, 25, 20, 4, 8]\n",
        "\n",
        "# Using a loop, remove the duplicate items from list a and print out the updated list.\n",
        "\n",
        "print(a)\n",
        "new_a = []\n",
        "for i in a:\n",
        "  if i not in new_a:\n",
        "    new_a.append(i)\n",
        "print(new_a)\n",
        "\n",
        "# Using a loop, merge list b into list a without adding any duplicates.\n",
        "\n",
        "c = [new_a]\n",
        "for i in b:\n",
        "  if i not in a:\n",
        "    c.append(i)\n",
        "\n",
        "print(c)"
      ],
      "execution_count": 8,
      "outputs": [
        {
          "output_type": "stream",
          "text": [
            "[2, 4, 10, 20, 5, 2, 20, 4]\n",
            "[2, 4, 10, 20, 5]\n",
            "[[2, 4, 10, 20, 5], 13, 25, 8]\n"
          ],
          "name": "stdout"
        }
      ]
    },
    {
      "cell_type": "markdown",
      "metadata": {
        "id": "JiG0W3n3T-Ze",
        "colab_type": "text"
      },
      "source": [
        "\n",
        "\n",
        "### P3.PY\n",
        "\n",
        "\n"
      ]
    },
    {
      "cell_type": "code",
      "metadata": {
        "id": "PZY5tAw4T-Zf",
        "colab_type": "code",
        "outputId": "e81e8d69-7d9b-48de-8e71-0ce4faa78aa9",
        "colab": {
          "base_uri": "https://localhost:8080/",
          "height": 34
        }
      },
      "source": [
        "\"\"\"\n",
        "Temperature Conversions\n",
        "\"\"\"\n",
        "\n",
        "# You're studying climate change, and over the last 3 years, you've recorded the temperature at noon every day in degrees Fahrenheit (F). The var sampleF holds a portion of those recordings. \n",
        "\n",
        "sampleF = [71.6, 82.4, 91.4, 107.6, 125.6]\n",
        "\n",
        "# Convert each item in this list into degrees Celsius and add the results to a dict called sample_temps so that the conversion of each day's temperature is easily accessible. For reference, the conversion equation between F and C is:\n",
        "# Celsius = (Fahrenheit - 32) * 5.0/9.0\n",
        "\n",
        "sample_temps = []\n",
        "\n",
        "for i in sampleF:\n",
        "  conversion = ((i-32)*5/9)\n",
        "  sample_temps.append(conversion)\n",
        "\n",
        "print(sample_temps)\n",
        "# sample_temps = \n",
        "\n"
      ],
      "execution_count": 0,
      "outputs": [
        {
          "output_type": "stream",
          "text": [
            "[21.999999999999996, 28.000000000000004, 33.0, 42.0, 52.0]\n"
          ],
          "name": "stdout"
        }
      ]
    },
    {
      "cell_type": "markdown",
      "metadata": {
        "id": "337FvlPKUNqp",
        "colab_type": "text"
      },
      "source": [
        "### P4.PY"
      ]
    },
    {
      "cell_type": "code",
      "metadata": {
        "id": "00D_V8BnT-Z2",
        "colab_type": "code",
        "outputId": "c95354a5-9542-40a5-c177-9d2a8e4d1af4",
        "colab": {
          "base_uri": "https://localhost:8080/",
          "height": 0
        }
      },
      "source": [
        "\"\"\"\n",
        "Control Flow - I\n",
        "\n",
        "Print the numbers in some range until you find a multiple of 7. \n",
        "At that point, print \"___ is the first multiple of 7 in this \n",
        "range.\" If the range does NOT include any multiples of 7, after \n",
        "you've printed the last number in the range, print \"There are \n",
        "no multiples of 7 in this range.\n",
        "\"\"\"\n",
        "\n",
        "# next in while loop with True/False\n",
        "match = False\n",
        "\n",
        "i = 15\n",
        "j = 100\n",
        "\n",
        "for x in range(i, j):\n",
        "  if x % 7 == 0:\n",
        "    print(f'{x} is the first multiple of 7 in this range.')\n",
        "    match = True\n",
        "    break\n",
        "if not match:\n",
        "  print(\"There are no multiples of 7 in this range.\")\n",
        "  \n"
      ],
      "execution_count": 3,
      "outputs": [
        {
          "output_type": "stream",
          "text": [
            "21 is the first multiple of 7 in this range.\n"
          ],
          "name": "stdout"
        }
      ]
    },
    {
      "cell_type": "markdown",
      "metadata": {
        "id": "aeUUzlj2T-Z5",
        "colab_type": "text"
      },
      "source": [
        "\n",
        "\n",
        "### P5.PY\n",
        "\n",
        "\n"
      ]
    },
    {
      "cell_type": "code",
      "metadata": {
        "id": "BXM9shfoT-Z5",
        "colab_type": "code",
        "outputId": "f25ba08a-8996-4e71-f41b-062036940931",
        "colab": {
          "base_uri": "https://localhost:8080/",
          "height": 34
        }
      },
      "source": [
        "\"\"\"\n",
        "Control Flow II\n",
        "\n",
        "Write a Python program that prints all the numbers from \n",
        "0 to 6 except 3 and 6. Note: Use a 'continue' statement. \n",
        "\"\"\"\n",
        "\n",
        "notthreemult = []\n",
        "\n",
        "three = 3\n",
        "\n",
        "for i in range(1,7): \n",
        "  if i % 3 != 0:\n",
        "    notthreemult.append(i)\n",
        "  else:\n",
        "    continue\n",
        "\n",
        "print(notthreemult)"
      ],
      "execution_count": 0,
      "outputs": [
        {
          "output_type": "stream",
          "text": [
            "[1, 2, 4, 5]\n"
          ],
          "name": "stdout"
        }
      ]
    },
    {
      "cell_type": "markdown",
      "metadata": {
        "id": "DGA_yKgt7KuB",
        "colab_type": "text"
      },
      "source": [
        "## FACTORS"
      ]
    },
    {
      "cell_type": "markdown",
      "metadata": {
        "id": "1WCBfmzxT-Zi",
        "colab_type": "text"
      },
      "source": [
        "\n",
        "\n",
        "### P1.PY\n",
        "\n",
        "\n"
      ]
    },
    {
      "cell_type": "code",
      "metadata": {
        "id": "D3n41TY3T-Zi",
        "colab_type": "code",
        "outputId": "4cdd7d40-5f69-461e-a4cc-bcd9cce6396b",
        "colab": {
          "base_uri": "https://localhost:8080/",
          "height": 0
        }
      },
      "source": [
        "\"\"\"\n",
        "Factorial\n",
        "\"\"\"\n",
        "\n",
        "# Find the factorial of a number input by a user. Then print out the factors \n",
        "# within the factorial and then print out the actual numeric answer. \n",
        "# Hint: The formula for a factorial is n! = (n-1)*n.\n",
        "\n",
        "\n",
        "# Example output:\n",
        "\"\"\"\n",
        "8! = 8*7*6*5*4*3*2*1\n",
        "8! = 40320\n",
        "\"\"\"\n",
        "\n",
        "import numpy\n",
        "\n",
        "user_input = input('Enter a number to find its factorial: ')\n",
        "\n",
        "factors = []\n",
        "\n",
        "for i in range(int(user_input), 1, -2):\n",
        "  answer = (i - 1)*i\n",
        "  factors.append(answer)\n",
        "\n",
        "print(numpy.prod(factors))\n"
      ],
      "execution_count": 17,
      "outputs": [
        {
          "output_type": "stream",
          "text": [
            "Enter a number to find its factorial: 4\n",
            "24\n"
          ],
          "name": "stdout"
        }
      ]
    },
    {
      "cell_type": "markdown",
      "metadata": {
        "id": "34_iw8-4T-Zl",
        "colab_type": "text"
      },
      "source": [
        "\n",
        "\n",
        "### P2.PY\n",
        "\n",
        "\n"
      ]
    },
    {
      "cell_type": "code",
      "metadata": {
        "id": "EnPbAafST-Zm",
        "colab_type": "code",
        "outputId": "0d988ee5-79b6-4efa-ea31-6e7942555f76",
        "colab": {
          "base_uri": "https://localhost:8080/",
          "height": 0
        }
      },
      "source": [
        "\"\"\"\n",
        "Factors\n",
        "\"\"\"\n",
        "\n",
        "# Find all factors of a number that a user inputs and print out 'The factors of <the_user_input_number> are: '.\n",
        "\n",
        "user_input = input('Enter a number to find its factors: ')\n",
        "\n",
        "factors = []\n",
        "\n",
        "for i in range(1, int(user_input)):\n",
        "  if int(user_input) % i == 0:\n",
        "    factors.append(i)\n",
        "\n",
        "print(f'The factors of {user_input} are: {factors}')"
      ],
      "execution_count": 18,
      "outputs": [
        {
          "output_type": "stream",
          "text": [
            "Enter a number to find its factors: 15\n",
            "The factors of 15 are: [1, 3, 5]\n"
          ],
          "name": "stdout"
        }
      ]
    },
    {
      "cell_type": "markdown",
      "metadata": {
        "id": "XQbSY6kYT-Zo",
        "colab_type": "text"
      },
      "source": [
        "\n",
        "\n",
        "### P3.PY\n",
        "\n",
        "\n"
      ]
    },
    {
      "cell_type": "code",
      "metadata": {
        "id": "YFYeCVqWT-Zp",
        "colab_type": "code",
        "outputId": "5c494382-4dd9-4a57-a9ee-77ac62610172",
        "colab": {
          "base_uri": "https://localhost:8080/",
          "height": 119
        }
      },
      "source": [
        "\"\"\"\n",
        "GCD\n",
        "\"\"\"\n",
        "\n",
        "# Find the greatest common denominator (GCD) of two number input by a user.\n",
        "# Then print out 'The GCD of <first number> and <second number> is <your result>.'\n",
        "\n",
        "print('Enter two numbers to find their greatest common denominator.')\n",
        "\n",
        "user_input1 = int(input('First number: '))\n",
        "user_input2 = int(input('Second number: '))\n",
        "\n",
        "factors1 = []\n",
        "\n",
        "for i in range(1, user_input1+1):\n",
        "  if int(user_input1) % i == 0:\n",
        "    factors1.append(i)\n",
        "\n",
        "print(factors1)\n",
        "\n",
        "factors2 = []\n",
        "\n",
        "for k in range(1, user_input2+1):\n",
        "  if int(user_input2) % k == 0:\n",
        "    factors2.append(k)\n",
        "\n",
        "print(factors2)\n",
        "\n",
        "# # for i in factors1:\n",
        "# #   if max(factors1) in factors2:\n",
        "# #     print(f'The GCD of {user_input1} and {user_input2} is: {factors1}')\n",
        "\n",
        "# while i in factors1 >= 1:\n",
        "#   if max(factors1) in factors2:\n",
        "#     print(f'The GCD of {user_input1} and {user_input2} is: {max(factors1)}')\n",
        "#   continue\n",
        "#   i -= 1\n",
        "\n",
        "for n in factors1:\n",
        "  if n in factors2:\n",
        "    common_numbers = []\n",
        "    common_numbers.append(n)\n",
        "\n",
        "print(max(common_numbers))\n"
      ],
      "execution_count": 16,
      "outputs": [
        {
          "output_type": "stream",
          "text": [
            "Enter two numbers to find their greatest common denominator.\n",
            "First number: 20\n",
            "Second number: 60\n",
            "[1, 2, 4, 5, 10, 20]\n",
            "[1, 2, 3, 4, 5, 6, 10, 12, 15, 20, 30, 60]\n",
            "20\n"
          ],
          "name": "stdout"
        }
      ]
    },
    {
      "cell_type": "markdown",
      "metadata": {
        "id": "HvXqnAyuT-Z8",
        "colab_type": "text"
      },
      "source": [
        "## SHAPES\n",
        "\n",
        "\n"
      ]
    },
    {
      "cell_type": "markdown",
      "metadata": {
        "id": "OU_s6uQgUQf-",
        "colab_type": "text"
      },
      "source": [
        "### P1.PY"
      ]
    },
    {
      "cell_type": "code",
      "metadata": {
        "id": "ruFtcQasT-Z9",
        "colab_type": "code",
        "outputId": "b5b78430-06d9-40af-aafd-c9e93e02cb7d",
        "colab": {
          "base_uri": "https://localhost:8080/",
          "height": 119
        }
      },
      "source": [
        "\"\"\"\n",
        "Build a Triangle I \n",
        "\n",
        "Use a FOR loop to print a triangle of stars that looks like this:\n",
        "\n",
        "*\n",
        "**\n",
        "***\n",
        "****\n",
        "*****\n",
        "\n",
        "\"\"\"\n",
        "\n",
        "for num in range(6):\n",
        "    for i in range(num):\n",
        "      print ('*', end='')\n",
        "    print('')"
      ],
      "execution_count": 0,
      "outputs": [
        {
          "output_type": "stream",
          "text": [
            "\n",
            "*\n",
            "**\n",
            "***\n",
            "****\n",
            "*****\n"
          ],
          "name": "stdout"
        }
      ]
    },
    {
      "cell_type": "markdown",
      "metadata": {
        "colab_type": "text",
        "id": "FSN_Wqyf8UnQ"
      },
      "source": [
        "### P2.PY"
      ]
    },
    {
      "cell_type": "code",
      "metadata": {
        "colab_type": "code",
        "id": "6oJisy5A8UnV",
        "outputId": "9f04d87a-72e9-466e-d09a-5ef8d00473ec",
        "colab": {
          "base_uri": "https://localhost:8080/",
          "height": 119
        }
      },
      "source": [
        "\"\"\"\n",
        "Build a Triangle II\n",
        "\n",
        "Use a WHILE loop to print a triangle of stars that looks like this:\n",
        "\n",
        "*\n",
        "**\n",
        "***\n",
        "****\n",
        "*****\n",
        "\n",
        "\"\"\"\n",
        "base = 1\n",
        "counter = base\n",
        "\n",
        "while counter < 7:\n",
        "  space = ' ' * (base - counter)\n",
        "  star = '*' * (counter -1 )\n",
        "  print(star + space)\n",
        "  counter += 1"
      ],
      "execution_count": 0,
      "outputs": [
        {
          "output_type": "stream",
          "text": [
            "\n",
            "*\n",
            "**\n",
            "***\n",
            "****\n",
            "*****\n"
          ],
          "name": "stdout"
        }
      ]
    },
    {
      "cell_type": "markdown",
      "metadata": {
        "id": "kE68tEQnT-aE",
        "colab_type": "text"
      },
      "source": [
        "\n",
        "\n",
        "### P3.PY\n",
        "\n",
        "\n"
      ]
    },
    {
      "cell_type": "code",
      "metadata": {
        "id": "n2pxG5J6T-aF",
        "colab_type": "code",
        "outputId": "2ce1b5cb-76fc-4ca7-a4b7-89a0659fe723",
        "colab": {
          "base_uri": "https://localhost:8080/",
          "height": 0
        }
      },
      "source": [
        "\"\"\"\n",
        "Build a Pyramid I\n",
        "\n",
        "Use a FOR loop to print a pyramid of stars that looks like this:\n",
        "\n",
        "    *\n",
        "   ***\n",
        "  *****\n",
        " *******\n",
        "*********\n",
        "\n",
        "\"\"\"\n",
        "# Alternative method that isn't as pythonic?\n",
        "# \n",
        "# for num in range(10):\n",
        "#     if num % 2 != 0:\n",
        "#       for i in range(num):\n",
        "#         half_space = (10 - int(num))/2  \n",
        "#         space = (' ' * int(half_space))\n",
        "#         star = '*' * num\n",
        "#         print (space, star, end = '')\n",
        "#       print('')\n",
        "#     continue\n",
        "\n",
        "\n",
        "for i in range(1, 10, 2):\n",
        "  if i % 2 != 0:\n",
        "    half_space = (9 - int(i))/2  \n",
        "    space = (' ' * int(half_space))\n",
        "    star = '*' * i\n",
        "    print (space, star, end = '')\n",
        "    print('')"
      ],
      "execution_count": 24,
      "outputs": [
        {
          "output_type": "stream",
          "text": [
            "     *\n",
            "    ***\n",
            "   *****\n",
            "  *******\n",
            " *********\n"
          ],
          "name": "stdout"
        }
      ]
    },
    {
      "cell_type": "markdown",
      "metadata": {
        "colab_type": "text",
        "id": "I-A5Y-oo8Una"
      },
      "source": [
        "### P4.PY\n"
      ]
    },
    {
      "cell_type": "code",
      "metadata": {
        "colab_type": "code",
        "id": "UwNy5b028Unb",
        "outputId": "04671a10-72f0-4935-f83a-e99e0ce0a95d",
        "colab": {
          "base_uri": "https://localhost:8080/",
          "height": 102
        }
      },
      "source": [
        "\"\"\"\n",
        "Build a Pyramid II\n",
        "\n",
        "Use a WHILE loop to print a pyramid of stars that looks like this:\n",
        "\n",
        "    *\n",
        "   ***\n",
        "  *****\n",
        " *******\n",
        "*********\n",
        "\n",
        "\"\"\"\n",
        "base = int(1)\n",
        "counter = int(base)\n",
        "half_space = 4\n",
        "\n",
        "while counter < 11:\n",
        "  if counter % 2 != 0:\n",
        "    half_space = (9 - int(counter))/2\n",
        "    space = (' ' * int(half_space))\n",
        "    star = '*' * (counter)\n",
        "    print(space, star)\n",
        "  counter += 1"
      ],
      "execution_count": 0,
      "outputs": [
        {
          "output_type": "stream",
          "text": [
            "     *\n",
            "    ***\n",
            "   *****\n",
            "  *******\n",
            " *********\n"
          ],
          "name": "stdout"
        }
      ]
    },
    {
      "cell_type": "markdown",
      "metadata": {
        "id": "wtaxsnSST-aH",
        "colab_type": "text"
      },
      "source": [
        "\n",
        "\n",
        "### P5.PY\n",
        "\n",
        "\n"
      ]
    },
    {
      "cell_type": "code",
      "metadata": {
        "id": "fiYt3OQrT-aI",
        "colab_type": "code",
        "outputId": "644ba237-a7f5-4cbe-aaf6-600f277dbb2b",
        "colab": {
          "base_uri": "https://localhost:8080/",
          "height": 170
        }
      },
      "source": [
        "\"\"\"\n",
        "Build a Diamond I\n",
        "\n",
        "Use a FOR loop to print a diamond of stars that looks like this:\n",
        "\n",
        "    *\n",
        "   ***\n",
        "  *****\n",
        " *******\n",
        "*********\n",
        " *******\n",
        "  *****\n",
        "   ***\n",
        "    *\n",
        "\"\"\"\n",
        "for i in range(1, 10, 2):\n",
        "  if num % 2 != 0:\n",
        "    half_space = (10 - int(i))/2  \n",
        "    space = (' ' * int(half_space))\n",
        "    star = '*' * i\n",
        "    print (space, star, end = '')\n",
        "    print('')\n",
        "  continue\n",
        "\n",
        "for k in range(7, 0, -2):\n",
        "  if num % 2 != 0:\n",
        "    half_space = 5 - (k/2)  \n",
        "    space = (' ' * int(half_space))\n",
        "    star = '*' * k\n",
        "    print (space, star, end = '')\n",
        "    print('')\n",
        "  continue\n"
      ],
      "execution_count": 0,
      "outputs": [
        {
          "output_type": "stream",
          "text": [
            "     *\n",
            "    ***\n",
            "   *****\n",
            "  *******\n",
            " *********\n",
            "  *******\n",
            "   *****\n",
            "    ***\n",
            "     *\n"
          ],
          "name": "stdout"
        }
      ]
    },
    {
      "cell_type": "markdown",
      "metadata": {
        "colab_type": "text",
        "id": "l7AOi4Xa8Une"
      },
      "source": [
        "### P6.PY"
      ]
    },
    {
      "cell_type": "code",
      "metadata": {
        "colab_type": "code",
        "id": "oK7nfy_D8Unj",
        "outputId": "d1daac96-c890-435c-98b8-2f73327ebca9",
        "colab": {
          "base_uri": "https://localhost:8080/",
          "height": 170
        }
      },
      "source": [
        "\"\"\"\n",
        "Build a Diamond II\n",
        "\n",
        "Use a WHILE loop to print a diamond of stars that looks like this:\n",
        "\n",
        "    *\n",
        "   ***\n",
        "  *****\n",
        " *******\n",
        "*********\n",
        " *******\n",
        "  *****\n",
        "   ***\n",
        "    *\n",
        "\"\"\"\n",
        "\n",
        "base = int(1)\n",
        "counter = int(base)\n",
        "half_space = 4\n",
        "\n",
        "while counter < 11:\n",
        "  if counter % 2 != 0:\n",
        "    half_space = (9 - int(counter))/2\n",
        "    space = (' ' * int(half_space))\n",
        "    star = '*' * (counter)\n",
        "    print(space, star)\n",
        "  counter += 1\n",
        "\n",
        "base2 = int(7)\n",
        "counter2 = int(base2)\n",
        "half_space2 = 4\n",
        "\n",
        "while counter2 > 0:\n",
        "  if counter2 % 2 != 0:\n",
        "    half_space2 = (9 - int(counter2))/2\n",
        "    space = (' ' * int(half_space2))\n",
        "    star = '*' * (counter2)\n",
        "    print(space, star)\n",
        "  counter2 -= 1"
      ],
      "execution_count": 0,
      "outputs": [
        {
          "output_type": "stream",
          "text": [
            "     *\n",
            "    ***\n",
            "   *****\n",
            "  *******\n",
            " *********\n",
            "  *******\n",
            "   *****\n",
            "    ***\n",
            "     *\n"
          ],
          "name": "stdout"
        }
      ]
    },
    {
      "cell_type": "markdown",
      "metadata": {
        "id": "pCsSUlIBT-aK",
        "colab_type": "text"
      },
      "source": [
        "## LOOP_CHALLENGES\n",
        "\n"
      ]
    },
    {
      "cell_type": "markdown",
      "metadata": {
        "id": "jwd1KZXKUTAc",
        "colab_type": "text"
      },
      "source": [
        "### P1.PY"
      ]
    },
    {
      "cell_type": "code",
      "metadata": {
        "id": "cKlAnBVhT-aL",
        "colab_type": "code",
        "colab": {}
      },
      "source": [
        "\"\"\"\n",
        "Valid Passwords\n",
        "\"\"\"\n",
        "\n",
        "# Check the validity of password input by users based on the below security \n",
        "# requirements: At least 1 letter between [a-z] and 1 letter between [A-Z].\n",
        "\"\"\"\n",
        "# At least 1 letter between [a-z] and 1 letter between [A-Z].\n",
        "#At least 1 number between [0-9].\n",
        "At least 1 character from [$#@].\n",
        "Minimum length 6 characters.\n",
        "Maximum length 16 characters.\n",
        "\"\"\"\n",
        "\n",
        "\n",
        "# Hint: Look up the documentation for the \"re\" library and it's \".search()\" method.\n",
        "\n",
        "# p = input(\"Input your password: \")"
      ],
      "execution_count": 0,
      "outputs": []
    },
    {
      "cell_type": "markdown",
      "metadata": {
        "id": "lDd1dMe5T-aN",
        "colab_type": "text"
      },
      "source": [
        "\n",
        "\n",
        "### P2.PY\n",
        "\n",
        "\n"
      ]
    },
    {
      "cell_type": "code",
      "metadata": {
        "id": "n8kuflOLT-aR",
        "colab_type": "code",
        "outputId": "b5bacb76-4b4e-46f0-ba00-46374f5e5f9c",
        "colab": {
          "base_uri": "https://localhost:8080/",
          "height": 34
        }
      },
      "source": [
        "\"\"\"\n",
        "Prime Numbers I\n",
        "\"\"\"\n",
        "\n",
        "# Check if a number input by a user is prime or not. If it is NOT a prime number, \n",
        "# print out that it is not a prime number. If it IS a prime number, print out \n",
        "# that it is a prime number and give an example of two of its factors. Hint: Prime numbers must be greater than 1.\n",
        "\n",
        "# Example of output for a NON-prime:\n",
        "# 12 is not a prime number\n",
        "# For example, 2 x 6 = 12\n",
        "\n",
        "\n",
        "\n",
        "# user_input = input(\"Enter a number to check if it's prime: \")\n",
        "\n"
      ],
      "execution_count": 0,
      "outputs": [
        {
          "output_type": "execute_result",
          "data": {
            "text/plain": [
              "'\\nPrime Numbers I\\n'"
            ]
          },
          "metadata": {
            "tags": []
          },
          "execution_count": 171
        }
      ]
    }
  ]
}