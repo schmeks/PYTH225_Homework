{
  "nbformat": 4,
  "nbformat_minor": 0,
  "metadata": {
    "colab": {
      "name": "Copy of dict_psets.ipynb",
      "provenance": [],
      "collapsed_sections": [
        "_yv4DI9GSU01",
        "j2WZlr4aSN8T",
        "1Z5ZE-l3T-Zs",
        "OY4HIe9zSN8g"
      ],
      "include_colab_link": true
    },
    "kernelspec": {
      "name": "python3",
      "display_name": "Python 3"
    }
  },
  "cells": [
    {
      "cell_type": "markdown",
      "metadata": {
        "id": "view-in-github",
        "colab_type": "text"
      },
      "source": [
        "<a href=\"https://colab.research.google.com/github/schmeks/PYTH225_Homework/blob/master/Copy_of_dict_psets.ipynb\" target=\"_parent\"><img src=\"https://colab.research.google.com/assets/colab-badge.svg\" alt=\"Open In Colab\"/></a>"
      ]
    },
    {
      "cell_type": "markdown",
      "metadata": {
        "id": "hIHgBfgSSN8D",
        "colab_type": "text"
      },
      "source": [
        "#  DICTS\n",
        "\n",
        "\n",
        "\n"
      ]
    },
    {
      "cell_type": "markdown",
      "metadata": {
        "id": "_yv4DI9GSU01",
        "colab_type": "text"
      },
      "source": [
        "## BASICS\n"
      ]
    },
    {
      "cell_type": "markdown",
      "metadata": {
        "id": "YXndgQTcSWCF",
        "colab_type": "text"
      },
      "source": [
        "### P1.PY"
      ]
    },
    {
      "cell_type": "code",
      "metadata": {
        "id": "sycqY3FhSN8E",
        "colab_type": "code",
        "outputId": "e85c0773-4040-4c9e-f303-6a5e8ad26c87",
        "colab": {
          "base_uri": "https://localhost:8080/",
          "height": 136
        }
      },
      "source": [
        "\"\"\"\n",
        "Intro to Dict Concepts\n",
        "\"\"\"\n",
        "\n",
        "# A) Declare an empty dict as d1.\n",
        "\n",
        "d1 = {}\n",
        "print(d1)\n",
        "\n",
        "# B) Create a dict called d2 containing the first and last names below:\n",
        "# Anthony Paollelo, Ping Qiao, Enrique Alvarez, Arjun Dhir \n",
        "\n",
        "d2 = {\n",
        "    'Anthony': 'Paollelo',\n",
        "    'Ping' : 'Qiao', \n",
        "    'Enrique' : 'Alvarez', \n",
        "    'Arjun' :  'Dhir'\n",
        "}\n",
        "print(d2)\n",
        "\n",
        "# C) Add Allison Zhang person to d2.\n",
        "\n",
        "d2['Allison'] = 'Zhang'\n",
        "print(d2)\n",
        "\n",
        "# D) How many people are now in d2? Print out all their *first* names in the vars below.\n",
        "\n",
        "num_people = len(d2)\n",
        "print(num_people)\n",
        "\n",
        "first_names = d2.keys()\n",
        "print(first_names)\n",
        "\n",
        "# E) Delete a random person from d2 and print his/her name in the var below.\n",
        "\n",
        "x = d2.popitem()\n",
        "print(x)\n",
        "\n",
        "# F) Re-add the name you deleted to the end of d2.\n",
        "\n",
        "key, value = x\n",
        "d2[key] = value\n",
        "print(d2)\n"
      ],
      "execution_count": 3,
      "outputs": [
        {
          "output_type": "stream",
          "text": [
            "{}\n",
            "{'Anthony': 'Paollelo', 'Ping': 'Qiao', 'Enrique': 'Alvarez', 'Arjun': 'Dhir'}\n",
            "{'Anthony': 'Paollelo', 'Ping': 'Qiao', 'Enrique': 'Alvarez', 'Arjun': 'Dhir', 'Allison': 'Zhang'}\n",
            "5\n",
            "dict_keys(['Anthony', 'Ping', 'Enrique', 'Arjun', 'Allison'])\n",
            "('Allison', 'Zhang')\n",
            "{'Anthony': 'Paollelo', 'Ping': 'Qiao', 'Enrique': 'Alvarez', 'Arjun': 'Dhir', 'Allison': 'Zhang'}\n"
          ],
          "name": "stdout"
        }
      ]
    },
    {
      "cell_type": "markdown",
      "metadata": {
        "id": "vGjiwyuNSN8H",
        "colab_type": "text"
      },
      "source": [
        "\n",
        "\n",
        "### P2.PY\n",
        "\n",
        "\n"
      ]
    },
    {
      "cell_type": "code",
      "metadata": {
        "id": "0vq219wISN8J",
        "colab_type": "code",
        "outputId": "5a33d5ca-c5b1-45de-c95f-e0bec0f17a91",
        "colab": {
          "base_uri": "https://localhost:8080/",
          "height": 51
        }
      },
      "source": [
        "\"\"\"\n",
        "Predators & Prey\n",
        "\"\"\"\n",
        "\n",
        "# A) Create a dict called \"pred_prey\", containing:\n",
        "### 3 carnivorous marine animals\n",
        "### For each carnivore, 3 examples of its prey\n",
        "\n",
        "pred_prey = {\n",
        "    'shark': ['sardine', 'tuna', 'dorado'],\n",
        "    'orca': ['seal', 'sea lion', 'char'],\n",
        "    'otter': ['urchin', 'fish', 'clam']\n",
        "}\n",
        "\n",
        "# B) Print out the 2nd predator and its prey in this format:\n",
        "#### predator2: prey1, prey2, & prey3\n",
        "\n",
        "pred_prey_keys = list(pred_prey.keys())\n",
        "pred_prey_values = list(pred_prey.values())\n",
        "print(f'{pred_prey_keys[1]}: {pred_prey_values[1]}')\n",
        "\n",
        "# C) Print a unique collection of all the prey in a variable called \"prey\".\n",
        "\n",
        "prey = []\n",
        "for i in pred_prey_values:\n",
        "  prey.extend(i)\n",
        "\n",
        "print(set(prey))"
      ],
      "execution_count": 56,
      "outputs": [
        {
          "output_type": "stream",
          "text": [
            "orca: ['seal', 'sea lion', 'char']\n",
            "{'dorado', 'urchin', 'seal', 'sea lion', 'char', 'tuna', 'fish', 'sardine', 'clam'}\n"
          ],
          "name": "stdout"
        }
      ]
    },
    {
      "cell_type": "markdown",
      "metadata": {
        "id": "2n4lE5O2SN8N",
        "colab_type": "text"
      },
      "source": [
        "\n",
        "\n",
        "### P3.PY\n",
        "\n",
        "\n"
      ]
    },
    {
      "cell_type": "code",
      "metadata": {
        "id": "7mg1LKIdSN8O",
        "colab_type": "code",
        "outputId": "eb1a3c5a-c79d-44df-9dcd-fcf224eaed55",
        "colab": {
          "base_uri": "https://localhost:8080/",
          "height": 34
        }
      },
      "source": [
        "\"\"\"\n",
        "Merging Dicts\n",
        "\"\"\"\n",
        "\n",
        "# Merge these two dicts without creating a new one.\n",
        "\n",
        "d1 = {'a': 100, 'b': 200}\n",
        "d2 = {'c': 300, 'd': 400, 'e': 500}\n",
        "\n",
        "d1.update(d2)\n",
        "print(d1)"
      ],
      "execution_count": 0,
      "outputs": [
        {
          "output_type": "stream",
          "text": [
            "{'a': 100, 'b': 200, 'c': 300, 'd': 400, 'e': 500}\n"
          ],
          "name": "stdout"
        }
      ]
    },
    {
      "cell_type": "markdown",
      "metadata": {
        "id": "pPpGZbyBSN8Q",
        "colab_type": "text"
      },
      "source": [
        "\n",
        "\n",
        "### P4.PY\n",
        "\n",
        "\n"
      ]
    },
    {
      "cell_type": "code",
      "metadata": {
        "id": "HLyWTctsSN8R",
        "colab_type": "code",
        "outputId": "16178672-1eac-4fa6-ca70-6ab4818b6a1f",
        "colab": {
          "base_uri": "https://localhost:8080/",
          "height": 34
        }
      },
      "source": [
        "\"\"\"\n",
        "Lists to Dicts\n",
        "\"\"\"\n",
        "\n",
        "# Turn these two lists into a dict called grades.\n",
        "\n",
        "names = ['Taq', 'Zola', 'Valerie', 'Valerie']\n",
        "scores = [[98, 89, 92, 94], [86, 45, 98, 100], [100, 100, 100, 100], [76, 79, 80, 82]]\n",
        "\n",
        "grades = dict(zip(names, scores))\n",
        "print(grades) "
      ],
      "execution_count": 0,
      "outputs": [
        {
          "output_type": "stream",
          "text": [
            "{'Taq': [98, 89, 92, 94], 'Zola': [86, 45, 98, 100], 'Valerie': [76, 79, 80, 82]}\n"
          ],
          "name": "stdout"
        }
      ]
    },
    {
      "cell_type": "markdown",
      "metadata": {
        "id": "j2WZlr4aSN8T",
        "colab_type": "text"
      },
      "source": [
        "## DICT MANIPULATION\n",
        "\n"
      ]
    },
    {
      "cell_type": "markdown",
      "metadata": {
        "id": "CD6sOl1NSlUd",
        "colab_type": "text"
      },
      "source": [
        "### P1.PY"
      ]
    },
    {
      "cell_type": "code",
      "metadata": {
        "id": "kevedbhjSN8U",
        "colab_type": "code",
        "outputId": "40d95755-60ce-4035-eb4a-c6ea5631ae2e",
        "colab": {
          "base_uri": "https://localhost:8080/",
          "height": 34
        }
      },
      "source": [
        "\"\"\"\n",
        "Basic Login\n",
        "\"\"\"\n",
        "\n",
        "# Imagine you work for a movie streaming service. You're in charge of \n",
        "# safeguarding user privacy by ensuring the login feature remains secure. \n",
        "# For the sake of example only, below is the dict of user login info. \n",
        "# Normally, you wouldn't have access to see this unencrypted of course!\n",
        "\n",
        "users = {\n",
        "\t'person@email.com': 'PassWord',\n",
        "\t'someone@email.com': 'hiitsme',\n",
        "\t'me@email.com': 'myPassword',\n",
        "\t'anyone@email.com': 'IMawesome',\n",
        "\t'guy@email.com': 'pa$$wordz'\n",
        "\t# etc\n",
        "}\n",
        "\n",
        "# A user enters the below login info (email and password) for your app. \n",
        "# Search your database of user logins to see if this account exists and if the \n",
        "# password matches what you have on file. If the login credentials are correct, \n",
        "# print \"Successful login!\". Otherwise, print \"The login info you entered does \n",
        "# not match any of our records.\"\n",
        "\n",
        "current_user = { 'me@email.com': 'myPassword' }\n",
        "\n",
        "for key, value in users.items():\n",
        "\tif key in current_user.keys():\n",
        "\t\tif value in current_user.values():\n",
        "\t\t\tprint('Successful login!')\n",
        "\t\tbreak\n",
        "else: print('The login info you entered does not match any of our records.')\n",
        "\t\n"
      ],
      "execution_count": 74,
      "outputs": [
        {
          "output_type": "stream",
          "text": [
            "Successful login!\n"
          ],
          "name": "stdout"
        }
      ]
    },
    {
      "cell_type": "markdown",
      "metadata": {
        "id": "KbjvMBP_SN8W",
        "colab_type": "text"
      },
      "source": [
        "\n",
        "\n",
        "### P2.PY\n",
        "\n",
        "\n"
      ]
    },
    {
      "cell_type": "code",
      "metadata": {
        "id": "SjdXQ_MiSN8X",
        "colab_type": "code",
        "outputId": "9e745d61-24cc-4329-ce7f-7c8470cb0f6e",
        "colab": {
          "base_uri": "https://localhost:8080/",
          "height": 238
        }
      },
      "source": [
        "\"\"\"\n",
        "Math with Girl Scout Cookies\n",
        "\"\"\"\n",
        "\n",
        "# Print out the number of boxes of girl scout cookies that each girl in the troop sold in the below format:\n",
        "\t# Wendy: _____\n",
        "\t# Connie: _____\n",
        "\t# Francesca: _____\n",
        "\n",
        "Wendy = {'tagalongs': 5, 'thin mints': 12, 'samoas': 8}\n",
        "Connie = {'tagalongs': 10, 'thin mints': 4, 'samoas': 12}\n",
        "Francesca = {'tagalongs': 18, 'thin mints': 14, 'samoas': 10}\n",
        "\n",
        "salesW = sum(list(Wendy.values()))\n",
        "print(f'Wendy: {salesW}')\n",
        "salesC = sum(list(Connie.values()))\n",
        "print(f'Connie: {salesC}')\n",
        "salesF = sum(list(Francesca.values()))\n",
        "print(f'Francesca: {salesF}\\n')\n",
        "\n",
        "\n",
        "# For each type of girl scout cookie, print out the total number of boxes sold in the below format:\n",
        "\t# tagalongs: _____\n",
        "\t# thin mints: _____\n",
        "\t# samoas: _____\n",
        "\n",
        "total_tagalongs = Wendy.get('tagalongs',[]) + Connie.get('tagalongs',[]) + Francesca.get('tagalongs',[])\n",
        "print(f'tagalongs: {total_tagalongs}')\n",
        "\n",
        "total_thinmints = Wendy.get('thin mints',[]) + Connie.get('thin mints',[]) + Francesca.get('thin mints',[])\n",
        "print(f'thin mints: {total_thinmints}')\n",
        "\n",
        "total_samoas = Wendy.get('samoas',[]) + Connie.get('samoas',[]) + Francesca.get('samoas',[])\n",
        "print(f'samoas: {total_samoas}\\n')\n",
        "\n",
        "# For each type of girl scout cookie, print out the average number of boxes sold in the below format:\n",
        "\t# tagalongs: _____\n",
        "\t# thin mints: _____\n",
        "\t# samoas: _____\n",
        "\n",
        "avg_tagalongs = total_tagalongs / 3\n",
        "print(f'tagalongs: {avg_tagalongs}')\n",
        "avg_thinmints = total_thinmints / 3\n",
        "print(f'thin mings: {avg_thinmints}')\n",
        "avg_samoas = total_samoas /3\n",
        "print(f'samoas: {avg_thinmints} \\n')\n",
        "\n",
        "# Print out total the number of boxes of cookies the girls sold collectively as follows:\n",
        "\t# \"This year we sold ______ boxes!\"\n",
        "\n",
        "boxes_sold = total_tagalongs + total_thinmints + total_samoas\n",
        "print(f'This year we sold {boxes_sold} boxes!')"
      ],
      "execution_count": 50,
      "outputs": [
        {
          "output_type": "stream",
          "text": [
            "Wendy: 25\n",
            "Connie: 26\n",
            "Francesca: 42\n",
            "\n",
            "tagalongs: 33\n",
            "thin mints: 30\n",
            "samoas: 30\n",
            "\n",
            "tagalongs: 11.0\n",
            "thin mings: 10.0\n",
            "samoas: 10.0 \n",
            "\n",
            "This year we sold 93 boxes!\n"
          ],
          "name": "stdout"
        }
      ]
    },
    {
      "cell_type": "markdown",
      "metadata": {
        "id": "U32QUUqHSN8b",
        "colab_type": "text"
      },
      "source": [
        "\n",
        "\n",
        "### P3.PY\n",
        "\n",
        "\n"
      ]
    },
    {
      "cell_type": "code",
      "metadata": {
        "id": "UfPFoSqGSN8d",
        "colab_type": "code",
        "outputId": "5851f3c4-7915-4c59-c640-2af68cd8b0bc",
        "colab": {
          "base_uri": "https://localhost:8080/",
          "height": 34
        }
      },
      "source": [
        "\"\"\"\n",
        "Inverting Keys & Values\n",
        "\"\"\"\n",
        "\n",
        "# Invert dict1 - make the current keys into values and the current values into keys.\n",
        "\n",
        "\n",
        "dict1 = { \"k1\" : \"v1\", \"k2\" : \"v2\", \"k3\" : \"v3\" }\n",
        "\n",
        "values = dict1.keys()\n",
        "keys = dict1.values()\n",
        "\n",
        "invert = dict(zip(keys, values))\n",
        "print(invert)"
      ],
      "execution_count": 0,
      "outputs": [
        {
          "output_type": "stream",
          "text": [
            "{'v1': 'k1', 'v2': 'k2', 'v3': 'k3'}\n"
          ],
          "name": "stdout"
        }
      ]
    },
    {
      "cell_type": "markdown",
      "metadata": {
        "id": "1Z5ZE-l3T-Zs",
        "colab_type": "text"
      },
      "source": [
        "## DICT LOOPS\n",
        "\n",
        "\n"
      ]
    },
    {
      "cell_type": "markdown",
      "metadata": {
        "id": "qOHH_tdgUIzl",
        "colab_type": "text"
      },
      "source": [
        "### P1.PY"
      ]
    },
    {
      "cell_type": "code",
      "metadata": {
        "id": "VAvRbaZiT-Zt",
        "colab_type": "code",
        "outputId": "4dc33a90-902d-4751-afea-1843ef7c3cf9",
        "colab": {
          "base_uri": "https://localhost:8080/",
          "height": 102
        }
      },
      "source": [
        "\"\"\"\n",
        "Contacts\n",
        "\"\"\"\n",
        "\n",
        "# You went to a conference and got people to sign up for text updates from your startup. Go through this dict to make the phone numbers readable to a computer. \n",
        "\n",
        "# Hint: It can't include any non-numeric\n",
        "# characters.\n",
        "\n",
        "contacts = {\n",
        "\t'Jamie': '1.192.168.0143',\n",
        "\t'Kartik': '1.837.209.1121',\n",
        "\t'Grant': '1.826.386.1758',\n",
        "\t'Brandon': '1.935.297.9447',\n",
        "\t'Monique': '1.702.716.5353',\n",
        "\t'Sohom': '1.576.619.6100',\n",
        "}\n",
        "\n",
        "numbers = list(contacts.values())\n",
        "numbers = str(numbers)\n",
        "print(numbers)\n",
        "\n",
        "for i in numbers:\n",
        "\tnumbers = numbers.replace(\".\",\"\").replace(\"[\",\"\").replace(\"]\",\"\")\n",
        "print(numbers)\n",
        "\n",
        "numbers = numbers.split(\",\")\n",
        "print(numbers)\n",
        "\n",
        "keys = contacts.keys()\n",
        "keys = list(keys)\n",
        "print(keys)\n",
        "\n",
        "readable_contacts = dict(zip(keys, numbers))\n",
        "print(readable_contacts)"
      ],
      "execution_count": 31,
      "outputs": [
        {
          "output_type": "stream",
          "text": [
            "['1.192.168.0143', '1.837.209.1121', '1.826.386.1758', '1.935.297.9447', '1.702.716.5353', '1.576.619.6100']\n",
            "'11921680143', '18372091121', '18263861758', '19352979447', '17027165353', '15766196100'\n",
            "[\"'11921680143'\", \" '18372091121'\", \" '18263861758'\", \" '19352979447'\", \" '17027165353'\", \" '15766196100'\"]\n",
            "['Jamie', 'Kartik', 'Grant', 'Brandon', 'Monique', 'Sohom']\n",
            "{'Jamie': \"'11921680143'\", 'Kartik': \" '18372091121'\", 'Grant': \" '18263861758'\", 'Brandon': \" '19352979447'\", 'Monique': \" '17027165353'\", 'Sohom': \" '15766196100'\"}\n"
          ],
          "name": "stdout"
        }
      ]
    },
    {
      "cell_type": "markdown",
      "metadata": {
        "id": "I9eekKo7T-Zv",
        "colab_type": "text"
      },
      "source": [
        "\n",
        "\n",
        "### P2.PY\n",
        "\n",
        "\n"
      ]
    },
    {
      "cell_type": "code",
      "metadata": {
        "id": "rjRPhf-oT-Zw",
        "colab_type": "code",
        "colab": {
          "base_uri": "https://localhost:8080/",
          "height": 265
        },
        "outputId": "e899652b-5397-4c1a-e6ae-e2a582e7dc3d"
      },
      "source": [
        "\"\"\"\n",
        "Grades\n",
        "\"\"\"\n",
        "# Here's a dict containing students' grades from the semester's assignments.\n",
        "\n",
        "students = {\n",
        "  'Ashton': [86, 45, 98, 100],\n",
        "  'Sierra': [100, 100, 100, 100],\n",
        "  'Zach': [38, 49, 90, 87],\n",
        "  'Manuel': [98, 92, 86, 100],\n",
        "  'Felicia': [94, 87, 89, 95],\n",
        "  'Ankur': [75, 77, 77, 85],\n",
        "  'Ananya': [98, 94, 87, 92],\n",
        "  'Nick': [79, 84, 89, 90],\n",
        "  'Olivia': [83, 91, 69, 85],\n",
        "  'Molly': [83, 74, 72, 90]\n",
        "}\n",
        "\n",
        "# p 1.1) Create a dict called num_grades to store each student's average numerical grade for the semester.\n",
        "\n",
        "num_grades = {}\n",
        "\n",
        "for key, value in students.items():\n",
        "  avg_grade = {key: sum(value)/len(value)}\n",
        "  num_grades.update(avg_grade)\n",
        "\n",
        "print(num_grades)\n",
        "\n",
        "\n",
        "# p 1.2) Create a dict called letter_grades to store each student's final letter grade for the semester. Use A, B, C, D, and F as grades per the standard grading scale.\n",
        "\n",
        "grades = list(num_grades.values())\n",
        "print(grades)\n",
        "\n",
        "# Not quite there, issues with data type while switching between lists and dicts\n",
        "\n",
        "letter_grades = {}\n",
        "\t\n",
        "for key, value in students.items():\n",
        "  if value > 89.9: \n",
        "    letter_grades.update(key, 'A')\n",
        "  if value > 79.9: \n",
        "    letter_grades.update(key, 'B')\n",
        "  if i > 69.9: \n",
        "    letter = 'C'\n",
        "    letters.extend(i)\n",
        "  if i > 59.9: \n",
        "    letter = 'D'\n",
        "    letters.extend(i)\n",
        "  else:\n",
        "    letter = 'F'\n",
        "    letters.extend(i)     \n",
        "\n",
        "print(letters)\n",
        "\n",
        "students = list(students.keys())\n",
        "\n",
        "letter_grades = zip(students, letters)\n",
        "\n",
        "# p 1.3) Create a list of honor roll students (i.e. students who got A's).\n",
        "\n",
        "# honor_roll "
      ],
      "execution_count": 85,
      "outputs": [
        {
          "output_type": "stream",
          "text": [
            "{'Ashton': 82.25, 'Sierra': 100.0, 'Zach': 66.0, 'Manuel': 94.0, 'Felicia': 91.25, 'Ankur': 78.5, 'Ananya': 92.75, 'Nick': 85.5, 'Olivia': 82.0, 'Molly': 79.75}\n",
            "[82.25, 100.0, 66.0, 94.0, 91.25, 78.5, 92.75, 85.5, 82.0, 79.75]\n"
          ],
          "name": "stdout"
        },
        {
          "output_type": "error",
          "ename": "TypeError",
          "evalue": "ignored",
          "traceback": [
            "\u001b[0;31m---------------------------------------------------------------------------\u001b[0m",
            "\u001b[0;31mTypeError\u001b[0m                                 Traceback (most recent call last)",
            "\u001b[0;32m<ipython-input-85-100da1d20722>\u001b[0m in \u001b[0;36m<module>\u001b[0;34m()\u001b[0m\n\u001b[1;32m     38\u001b[0m \u001b[0;34m\u001b[0m\u001b[0m\n\u001b[1;32m     39\u001b[0m \u001b[0;32mfor\u001b[0m \u001b[0mkey\u001b[0m\u001b[0;34m,\u001b[0m \u001b[0mvalue\u001b[0m \u001b[0;32min\u001b[0m \u001b[0mstudents\u001b[0m\u001b[0;34m.\u001b[0m\u001b[0mitems\u001b[0m\u001b[0;34m(\u001b[0m\u001b[0;34m)\u001b[0m\u001b[0;34m:\u001b[0m\u001b[0;34m\u001b[0m\u001b[0;34m\u001b[0m\u001b[0m\n\u001b[0;32m---> 40\u001b[0;31m   \u001b[0;32mif\u001b[0m \u001b[0mvalue\u001b[0m \u001b[0;34m>\u001b[0m \u001b[0;36m89.9\u001b[0m\u001b[0;34m:\u001b[0m\u001b[0;34m\u001b[0m\u001b[0;34m\u001b[0m\u001b[0m\n\u001b[0m\u001b[1;32m     41\u001b[0m     \u001b[0mletter_grades\u001b[0m\u001b[0;34m.\u001b[0m\u001b[0mupdate\u001b[0m\u001b[0;34m(\u001b[0m\u001b[0mkey\u001b[0m\u001b[0;34m,\u001b[0m \u001b[0;34m'A'\u001b[0m\u001b[0;34m)\u001b[0m\u001b[0;34m\u001b[0m\u001b[0;34m\u001b[0m\u001b[0m\n\u001b[1;32m     42\u001b[0m   \u001b[0;32mif\u001b[0m \u001b[0mvalue\u001b[0m \u001b[0;34m>\u001b[0m \u001b[0;36m79.9\u001b[0m\u001b[0;34m:\u001b[0m\u001b[0;34m\u001b[0m\u001b[0;34m\u001b[0m\u001b[0m\n",
            "\u001b[0;31mTypeError\u001b[0m: '>' not supported between instances of 'list' and 'float'"
          ]
        }
      ]
    },
    {
      "cell_type": "markdown",
      "metadata": {
        "id": "fjXYhpR_T-Zz",
        "colab_type": "text"
      },
      "source": [
        "\n",
        "\n",
        "### P3.PY\n",
        "\n",
        "\n"
      ]
    },
    {
      "cell_type": "code",
      "metadata": {
        "id": "dnNTo_y5T-Z0",
        "colab_type": "code",
        "colab": {
          "base_uri": "https://localhost:8080/",
          "height": 173
        },
        "outputId": "71f1eb85-d44f-4bea-ab99-bbc8ff6f49db"
      },
      "source": [
        "\"\"\"\n",
        "Price Inventory\n",
        "\"\"\"\n",
        "\n",
        "# Imagine you're the owner of an Italian restaurant. You're evaluating your \n",
        "# pricing to make sure it's up to date with the latest costs of making each menu \n",
        "# item (see the menu prices and costs dicts below). Evaluate whether each item's \n",
        "# price returns a profit margin of at least $1.00. If it doesn't, update the \n",
        "# menu_prices dict with a new price that gives the item a $1.00 profit margin. \n",
        "# Then print out the items which you've repriced in a new dict called \n",
        "# price_increases.\n",
        "\n",
        "menu_prices = {\n",
        "\t'fettuccine bolognese': 14.99,\n",
        "\t'gnocchi gorgonzola': 10.99,\n",
        "\t'chicken parmigiano': 13.99,\n",
        "\t'butternut squash risotto': 9.99,\n",
        "\t'spaghetti carbonara': 12.99,\n",
        "\t'pizza margherita': 12.99,\n",
        "\t'chicken marsala': 13.99\n",
        "}\n",
        "\n",
        "menu_costs = {\n",
        "\t'fettuccine bolognese': 12.50,\n",
        "\t'gnocchi gorgonzola': 11.25,\n",
        "\t'chicken parmigiano': 11.75,\n",
        "\t'butternut squash risotto': 6.33,\n",
        "\t'spaghetti carbonara': 12.90,\n",
        "\t'pizza margherita': 14.00,\n",
        "\t'chicken marsala': 11.75\n",
        "}\n",
        "\n",
        "\n",
        "prices = list(menu_prices.values())\n",
        "print(prices)\n",
        "costs = list(menu_costs.values())\n",
        "print(costs)\n",
        "\n",
        "profits = zip(prices, costs)\n",
        "difference = []\n",
        "for prices, costs in profits:\n",
        "\tdifference.append(prices-costs)\n",
        "\t\n",
        "print(difference)\n",
        "\n",
        "items = menu_costs.keys()\n",
        "print(items)\n",
        "\n",
        "margin = dict(zip(items, difference))\n",
        "print(margin)\n",
        "\n",
        "for k, v in margin.items():\n",
        "\tif v < 1.0:\n",
        "\t\tnew_profit = {k: 1.0}\n",
        "\t\tmargin.update(new_profit)\n",
        "\telif v > 1.0:\n",
        "\t\tnew_profit = {k: 0.0}\n",
        "\t\tmargin.update(new_profit)\n",
        "\n",
        "print(margin)\n",
        "margin = list(margin.values())\n",
        "\n",
        "prices = list(menu_prices.values())\n",
        "\n",
        "price_increases = []\n",
        "new_margin = zip(prices, margin)\n",
        "for prices, margin in new_margin:\n",
        "\tprice_increases.append(float(prices) + float(margin))\n",
        "\n",
        "print(price_increases)\n",
        "\n",
        "price_increases = dict(zip(items, price_increases))\n",
        "print(dict(price_increases))\n",
        "\n",
        "# Still not quite there, the price increases aren't relative to the cost, but to the original price"
      ],
      "execution_count": 84,
      "outputs": [
        {
          "output_type": "stream",
          "text": [
            "[14.99, 10.99, 13.99, 9.99, 12.99, 12.99, 13.99]\n",
            "[12.5, 11.25, 11.75, 6.33, 12.9, 14.0, 11.75]\n",
            "[2.49, -0.2599999999999998, 2.24, 3.66, 0.08999999999999986, -1.0099999999999998, 2.24]\n",
            "dict_keys(['fettuccine bolognese', 'gnocchi gorgonzola', 'chicken parmigiano', 'butternut squash risotto', 'spaghetti carbonara', 'pizza margherita', 'chicken marsala'])\n",
            "{'fettuccine bolognese': 2.49, 'gnocchi gorgonzola': -0.2599999999999998, 'chicken parmigiano': 2.24, 'butternut squash risotto': 3.66, 'spaghetti carbonara': 0.08999999999999986, 'pizza margherita': -1.0099999999999998, 'chicken marsala': 2.24}\n",
            "{'fettuccine bolognese': 0.0, 'gnocchi gorgonzola': 1.0, 'chicken parmigiano': 0.0, 'butternut squash risotto': 0.0, 'spaghetti carbonara': 1.0, 'pizza margherita': 1.0, 'chicken marsala': 0.0}\n",
            "[14.99, 11.99, 13.99, 9.99, 13.99, 13.99, 13.99]\n",
            "{'fettuccine bolognese': 14.99, 'gnocchi gorgonzola': 11.99, 'chicken parmigiano': 13.99, 'butternut squash risotto': 9.99, 'spaghetti carbonara': 13.99, 'pizza margherita': 13.99, 'chicken marsala': 13.99}\n"
          ],
          "name": "stdout"
        }
      ]
    },
    {
      "cell_type": "markdown",
      "metadata": {
        "id": "OY4HIe9zSN8g",
        "colab_type": "text"
      },
      "source": [
        "## COUNTERS CHALLENGE\n",
        "\n",
        "\n"
      ]
    },
    {
      "cell_type": "markdown",
      "metadata": {
        "id": "n6-wbcqISxIr",
        "colab_type": "text"
      },
      "source": [
        "### P1.PY"
      ]
    },
    {
      "cell_type": "code",
      "metadata": {
        "id": "LKLiEr_3SN8g",
        "colab_type": "code",
        "colab": {}
      },
      "source": [
        "\"\"\"\n",
        "Word Frequency\n",
        "\"\"\"\n",
        "\n",
        "# Print out the number of words in this movie quote. Find and print out the most common word in the quote and how many times it was used.\n",
        "### Hint: You do not need a loop for this. Look up the Counter docs in python3.\n",
        "\n",
        "from collections import Counter\n",
        "\n",
        "princess_bride = [\n",
        "'Hello', 'my', 'name', 'is', 'Inigo', 'Montoya',\n",
        "'You', 'killed', 'my', 'father',\n",
        "'Prepare', 'to', 'die'\n",
        "]\n",
        "\n",
        "### fave_word = \n",
        "\n",
        "# p.s. You might use this to help analyze the most common topic in comments or reviews from your users to help understand the best places to improve you product."
      ],
      "execution_count": 0,
      "outputs": []
    },
    {
      "cell_type": "markdown",
      "metadata": {
        "id": "7L4oLSDpSN8n",
        "colab_type": "text"
      },
      "source": [
        "\n",
        "\n",
        "### P2.PY\n",
        "\n",
        "\n"
      ]
    },
    {
      "cell_type": "code",
      "metadata": {
        "id": "MYo0kTxuSN8o",
        "colab_type": "code",
        "colab": {}
      },
      "source": [
        "\"\"\"\n",
        "Summing Dict Values\n",
        "\"\"\"\n",
        "\n",
        "# Two Kindergarten teachers poll their classes for what fruit they want to eat for snacktime tomorrow. Only one of them is going shopping, so she needs to know how many of each fruit she needs to buy in total. Tally these up and assign them to the \"shopping_list\" dict.\n",
        "\n",
        "poll1 = {'apples': 8, 'bananas': 12}\n",
        "poll2 = {'apples': 6, 'bananas': 6, 'clementines': 8}\n",
        "\n",
        "### shopping_list = \n",
        "\n"
      ],
      "execution_count": 0,
      "outputs": []
    }
  ]
}