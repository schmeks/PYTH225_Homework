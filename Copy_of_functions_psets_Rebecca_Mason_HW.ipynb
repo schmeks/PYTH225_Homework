{
  "nbformat": 4,
  "nbformat_minor": 0,
  "metadata": {
    "colab": {
      "name": "Copy of functions_psets_Rebecca Mason HW.ipynb",
      "provenance": [],
      "collapsed_sections": [],
      "include_colab_link": true
    },
    "kernelspec": {
      "name": "python3",
      "display_name": "Python 3"
    }
  },
  "cells": [
    {
      "cell_type": "markdown",
      "metadata": {
        "id": "view-in-github",
        "colab_type": "text"
      },
      "source": [
        "<a href=\"https://colab.research.google.com/github/schmeks/PYTH225_Homework/blob/master/Copy_of_functions_psets_Rebecca_Mason_HW.ipynb\" target=\"_parent\"><img src=\"https://colab.research.google.com/assets/colab-badge.svg\" alt=\"Open In Colab\"/></a>"
      ]
    },
    {
      "cell_type": "markdown",
      "metadata": {
        "id": "43e1PgRyNeyZ",
        "colab_type": "text"
      },
      "source": [
        "<a href=\"https://colab.research.google.com/github/mottaquikarim/PYTH2/blob/master/src/PSETS/nb/classes_psets.ipynb\" target=\"_parent\"><img src=\"https://colab.research.google.com/assets/colab-badge.svg\" alt=\"Open In Colab\"/></a>"
      ]
    },
    {
      "cell_type": "markdown",
      "metadata": {
        "id": "_IvyUuPjNeyb",
        "colab_type": "text"
      },
      "source": [
        "#  FUNCTIONS"
      ]
    },
    {
      "cell_type": "markdown",
      "metadata": {
        "id": "RGgp__RZNvUy",
        "colab_type": "text"
      },
      "source": [
        "## BASIC FUNCTION OPS"
      ]
    },
    {
      "cell_type": "markdown",
      "metadata": {
        "id": "yEdzSlN8NwyE",
        "colab_type": "text"
      },
      "source": [
        "### P1.PY"
      ]
    },
    {
      "cell_type": "code",
      "metadata": {
        "id": "XixCtMjENeye",
        "colab_type": "code",
        "outputId": "94a2b528-998c-46fa-f01f-61f0c036a787",
        "colab": {
          "base_uri": "https://localhost:8080/",
          "height": 34
        }
      },
      "source": [
        "\"\"\"\n",
        "Function Basics I - No Input\n",
        "\"\"\"\n",
        "\n",
        "# Write a and call a function called \"rand_list\" that generates a list of 5 random numbers between 1 and 500. Print out that list.\n",
        "\n",
        "import random\n",
        "\n",
        "def rand_list(num: int) -> int:\n",
        "  number1 = random.randint(1, 500)\n",
        "  number2 = random.randint(1, 500)\n",
        "  number3 = random.randint(1, 500)\n",
        "  number4 = random.randint(1, 500)\n",
        "  number5 = random.randint(1, 500)\n",
        "  list = [number1, number2, number3, number4, number5]\n",
        "  return(list)\n",
        "\n",
        "print(rand_list(5))"
      ],
      "execution_count": 0,
      "outputs": [
        {
          "output_type": "stream",
          "text": [
            "[161, 387, 258, 353, 422]\n"
          ],
          "name": "stdout"
        }
      ]
    },
    {
      "cell_type": "markdown",
      "metadata": {
        "id": "JHygF2-tNeyk",
        "colab_type": "text"
      },
      "source": [
        "### P2.PY\n"
      ]
    },
    {
      "cell_type": "code",
      "metadata": {
        "id": "a08oiPvoNeyl",
        "colab_type": "code",
        "outputId": "3f7af718-6e7c-4e24-bd8e-e627cef19be0",
        "colab": {
          "base_uri": "https://localhost:8080/",
          "height": 34
        }
      },
      "source": [
        "\"\"\"\n",
        "Function Basics II - Arguments\n",
        "\"\"\"\n",
        "\n",
        "# Write a and call function called \"names\" that separately intakes a person's first name and a person's last name. It should concatenate the names and return the person's full name.\n",
        "\n",
        "def names (first_name, last_name: str) -> str:\n",
        "  full_name = first_name + \" \" + last_name\n",
        "  return(full_name)\n",
        "\n",
        "print(names('Becca', 'Mason'))\n"
      ],
      "execution_count": 0,
      "outputs": [
        {
          "output_type": "stream",
          "text": [
            "Becca Mason\n"
          ],
          "name": "stdout"
        }
      ]
    },
    {
      "cell_type": "markdown",
      "metadata": {
        "id": "tFsdo4A6Neyn",
        "colab_type": "text"
      },
      "source": [
        "\n",
        "### P3.PY\n"
      ]
    },
    {
      "cell_type": "code",
      "metadata": {
        "id": "DBA7Joa8Neyp",
        "colab_type": "code",
        "outputId": "4e96bebb-047a-4bd0-bd60-0c8dddde0520",
        "colab": {
          "base_uri": "https://localhost:8080/",
          "height": 51
        }
      },
      "source": [
        "\"\"\"\n",
        "Function Basics III - Default Arguments\n",
        "\"\"\"\n",
        "\n",
        "# Now write a and call function called \"fave_colors\" that separately intakes a \n",
        "# person's first name, a person's last name, and **optionally** their favorite color.\n",
        "\n",
        "# The function should create and return a dict with the full name as a key and \n",
        "# the favorite color as the value. If the person does not enter a favorite \n",
        "# color, you should assume they have no favorite color and assign theirs to None.\n",
        "# Try both use cases.\n",
        "\n",
        "def fave_colors(first_name, last_name, fave_color = None) -> str:\n",
        "  name = first_name + \" \" + last_name\n",
        "  return{name: fave_color}\n",
        "\n",
        "print(fave_colors('Becca', 'Mason', fave_color = 'green'))\n",
        "print(fave_colors('Becca', 'Mason'))\n"
      ],
      "execution_count": 0,
      "outputs": [
        {
          "output_type": "stream",
          "text": [
            "{'Becca Mason': 'green'}\n",
            "{'Becca Mason': None}\n"
          ],
          "name": "stdout"
        }
      ]
    },
    {
      "cell_type": "markdown",
      "metadata": {
        "id": "cWqpS8KLNeyz",
        "colab_type": "text"
      },
      "source": [
        "\n",
        "### P4.PY\n"
      ]
    },
    {
      "cell_type": "code",
      "metadata": {
        "id": "WmATxpzvNey0",
        "colab_type": "code",
        "outputId": "2183d893-f14e-4de4-bd04-9470f2fd4803",
        "colab": {
          "base_uri": "https://localhost:8080/",
          "height": 34
        }
      },
      "source": [
        "\"\"\"\n",
        "Function Basics IV - Multiple Return Values\n",
        "\"\"\"\n",
        "\n",
        "# Write a and call a function called \"figures\" that takes any two numbers and **individually** returns the following as integers:\n",
        "# their sum\n",
        "# their product\n",
        "# the quotient for num1 / num2\n",
        "\n",
        "\"\"\"Print each value out individually in this format:\n",
        "(using 12 and 3)\n",
        "sum: 15\n",
        "product: 36\n",
        "quotient: 4\n",
        "\"\"\"\n",
        "\n",
        "def figures (number1, number2: float) -> int:\n",
        "  sum1_2 = number1 + number2\n",
        "  product1_2 = number1 * number2\n",
        "  quotient1_2 = number1 / number2\n",
        "  return(sum1_2, product1_2, quotient1_2)\n",
        "\n",
        "print(figures(3, 4))\n"
      ],
      "execution_count": 0,
      "outputs": [
        {
          "output_type": "stream",
          "text": [
            "(7, 12, 0.75)\n"
          ],
          "name": "stdout"
        }
      ]
    },
    {
      "cell_type": "markdown",
      "metadata": {
        "id": "pqxwEC16Ney2",
        "colab_type": "text"
      },
      "source": [
        "\n",
        "### P5.PY\n"
      ]
    },
    {
      "cell_type": "code",
      "metadata": {
        "id": "i_tVcZ1FNey3",
        "colab_type": "code",
        "outputId": "8c7d5dd7-c537-4fc2-b4ea-fbb226557590",
        "colab": {
          "base_uri": "https://localhost:8080/",
          "height": 34
        }
      },
      "source": [
        "\"\"\"\n",
        "Function Basics V - Indeterminate Arguments\n",
        "\"\"\"\n",
        "\n",
        "# Write a and call a function called \"high_low\" that takes 3 numbers and returns the highest and lowest ones.\n",
        "\n",
        "def high_low(number1, number2, number3: int) -> int:\n",
        "  numbers = [number1, number2, number3]\n",
        "  highest = max(numbers)\n",
        "  lowest = min(numbers)\n",
        "  return(highest, lowest)\n",
        "\n",
        "high_low(16, 8, 10)"
      ],
      "execution_count": 0,
      "outputs": [
        {
          "output_type": "execute_result",
          "data": {
            "text/plain": [
              "(16, 8)"
            ]
          },
          "metadata": {
            "tags": []
          },
          "execution_count": 26
        }
      ]
    },
    {
      "cell_type": "markdown",
      "metadata": {
        "id": "1p9TsLXtNey5",
        "colab_type": "text"
      },
      "source": [
        "\n",
        "## DB_SEARCH\n"
      ]
    },
    {
      "cell_type": "markdown",
      "metadata": {
        "id": "W5DLuftkNyog",
        "colab_type": "text"
      },
      "source": [
        "### P1.PY"
      ]
    },
    {
      "cell_type": "code",
      "metadata": {
        "id": "WvU9x79ZNey6",
        "colab_type": "code",
        "outputId": "b0e49d6b-a290-43b9-997b-fce1a679f3d3",
        "colab": {
          "base_uri": "https://localhost:8080/",
          "height": 34
        }
      },
      "source": [
        "\"\"\"\n",
        "GPA Calculator\n",
        "\"\"\"\n",
        "\n",
        "# Write a function called \"simple_gpa\" to find GPA when student enters a letter grade as a string. Assign the result to a variable called \"gpa\".\n",
        "\n",
        "\"\"\"\n",
        "Use these conversions:\n",
        "A+ --> 4.0\n",
        "A --> 4.0\n",
        "A- --> 3.7\n",
        "B+ --> 3.3\n",
        "B --> 3.0\n",
        "B- --> 2.7\n",
        "C+ --> 2.3\n",
        "C --> 2.0\n",
        "C- --> 1.7\n",
        "D+ --> 1.3\n",
        "D --> 1.0\n",
        "D- --> 0.7\n",
        "F --> 0.0\n",
        "\"\"\"\n",
        "gpa_conversion = {\n",
        "'A+': 4.0,\n",
        "'A': 4.0,\n",
        "'A-': 3.7,\n",
        "'B+': 3.3,\n",
        "'B' : 3.0,\n",
        "'B-': 2.7,\n",
        "'C+': 2.3,\n",
        "'C': 2.0,\n",
        "'C-': 1.7,\n",
        "'D+': 1.3,\n",
        "'D': 1.0,\n",
        "'D-': 0.7,\n",
        "'F': 0.0\n",
        "}\n",
        "\n",
        "def simple_gpa(grade: str) -> float:\n",
        "  gpa = gpa_conversion[grade]\n",
        "  return(gpa)\n",
        "\n",
        "\n",
        "print(simple_gpa('B'))\n"
      ],
      "execution_count": 0,
      "outputs": [
        {
          "output_type": "stream",
          "text": [
            "3.0\n"
          ],
          "name": "stdout"
        }
      ]
    },
    {
      "cell_type": "markdown",
      "metadata": {
        "id": "XJfdr65oNey8",
        "colab_type": "text"
      },
      "source": [
        "\n",
        "### P2.PY\n",
        "\n"
      ]
    },
    {
      "cell_type": "code",
      "metadata": {
        "id": "STG3hDMhNey9",
        "colab_type": "code",
        "outputId": "2a6b7339-e584-4dd9-9939-8c2cbaf007c5",
        "colab": {
          "base_uri": "https://localhost:8080/",
          "height": 51
        }
      },
      "source": [
        "\"\"\"\n",
        "RGB to HEX\n",
        "\"\"\"\n",
        "\n",
        "# Write a and call a function called \"rgb_hex\" that takes a parameter called \n",
        "# \"color.\" The function should be able to intake a color in rgb format and return \n",
        "# it in hex format as well as vice versa. A sample of color conversions are below. \n",
        "# Write in logic so the function can interpret rgb and hex colors entered in \n",
        "# different formats such as \"rgb_hex((255,255,255))\" or \"rgb_hex('ffffff')\". \n",
        "# Also make sure to account for someone inputting a color not in the database.\n",
        "\n",
        "color_conversions = {\n",
        "'#4286f4': 'rgb(66, 134, 244)',\n",
        "'#5905c6': 'rgb(89, 5, 198)',\n",
        "'#fce702': 'rgb(252, 231, 2)',\n",
        "'#ffffff': 'rgb(255, 255, 255)',\n",
        "'#000000': 'rgb(0, 0, 0)',\n",
        "'#0ac913': 'rgb(10, 201, 19)',\n",
        "'#65c672': 'rgb(101, 198, 114)',\n",
        "'#f8d6ff': 'rgb(248, 214, 255)',\n",
        "'#b70782': 'rgb(183, 7, 130)',\n",
        "'#001184': 'rgb(0, 17, 132)',\n",
        "'#495eed': 'rgb(73, 94, 237)',\n",
        "'#b7ffb8': 'rgb(183, 255, 184)',\n",
        "'#ffbf00': 'rgb(255, 191, 0)',\n",
        "'#7a020e': 'rgb(122, 2, 14)',\n",
        "'#ff5e6e': 'rgb(255, 94, 110)',\n",
        "'#22003d': 'rgb(34, 0, 61)'\n",
        "}\n",
        "\n",
        "\n",
        "def rgb_hex(color: str) -> str:\n",
        "  if '#' in color:\n",
        "    hex = color_conversions[color]\n",
        "    return(hex)\n",
        "  if len(color) == 6:\n",
        "    formatted_color = \"#\"+color \n",
        "    hex = color_conversions[formatted_color]\n",
        "    return(hex)\n",
        "  if 'rgb' in color:\n",
        "    keys = color_conversions.keys()\n",
        "    values = color_conversions.values()\n",
        "    rev_color_conversions = dict(zip(values, keys))\n",
        "    print(rev_color_conversions)\n",
        "    for key, value in rev_color_conversions.keys():\n",
        "      if key == color:\n",
        "        hex = rev_color_conversions.value\n",
        "        return(hex)\n",
        "  if int(color) == True:\n",
        "    color = color_conversions[color]\n",
        "    return(hex)\n",
        "  else:\n",
        "    return(print(\"Please enter a color number or hex code.\"))\n",
        "\n",
        "\n",
        "print(rgb_hex(\"#ffffff\"))\n",
        "print(rgb_hex(\"000000\"))\n",
        "\n",
        "# print(rgb_hex('rgb(255, 255, 255)'))\n",
        "# print(rgb_hex('0, 17, 132'))"
      ],
      "execution_count": 8,
      "outputs": [
        {
          "output_type": "stream",
          "text": [
            "rgb(255, 255, 255)\n",
            "rgb(0, 0, 0)\n"
          ],
          "name": "stdout"
        }
      ]
    },
    {
      "cell_type": "markdown",
      "metadata": {
        "id": "AQVD0N7BNezC",
        "colab_type": "text"
      },
      "source": [
        "\n",
        "\n",
        "## MATH\n",
        "\n",
        "\n"
      ]
    },
    {
      "cell_type": "markdown",
      "metadata": {
        "id": "bmEK7PmRN1Fu",
        "colab_type": "text"
      },
      "source": [
        "### P1.PY"
      ]
    },
    {
      "cell_type": "code",
      "metadata": {
        "id": "oMKX0HrfNezD",
        "colab_type": "code",
        "outputId": "844ca219-3617-4810-dcb1-ddcddad47bd1",
        "colab": {
          "base_uri": "https://localhost:8080/",
          "height": 34
        }
      },
      "source": [
        "\"\"\"\n",
        "Simple Interest Calculator\n",
        "\"\"\"\n",
        "\n",
        "# Write a function called \"simple_interest\" that will allow a user to find out \n",
        "# how much they will have in savings based on their current funds and an \n",
        "# interest rate. (Instead of collecting user input, you can directly pass \n",
        "# values of your choosing for the arguments.)\n",
        "\n",
        "# The formula for simple interest is...\n",
        "# A = P(1 + rt), where...\n",
        "# P = principal amount of money\n",
        "# r = interest rate\n",
        "# t = number of time periods the principal will earn interest\n",
        "\n",
        "\n",
        "def simple_interest (funds: float, interest: float, nper: float) -> float:\n",
        "  interest_rate = 1.0 + (interest*nper)\n",
        "  savings = funds*interest_rate\n",
        "  return(savings)\n",
        "\n",
        "print(simple_interest(1000,.07,5))"
      ],
      "execution_count": 0,
      "outputs": [
        {
          "output_type": "stream",
          "text": [
            "1350.0\n"
          ],
          "name": "stdout"
        }
      ]
    },
    {
      "cell_type": "markdown",
      "metadata": {
        "id": "7ScSNwjINezF",
        "colab_type": "text"
      },
      "source": [
        "\n",
        "\n",
        "### P2.PY\n",
        "\n",
        "\n"
      ]
    },
    {
      "cell_type": "code",
      "metadata": {
        "id": "YwFx8wHsNezG",
        "colab_type": "code",
        "outputId": "eef1aa8e-e81a-45d4-ac2f-9a04880f8590",
        "colab": {
          "base_uri": "https://localhost:8080/",
          "height": 34
        }
      },
      "source": [
        "\"\"\"\n",
        "Permutations & Combinations\n",
        "\"\"\"\n",
        "\n",
        "# Create two functions:\n",
        "\t# One called \"perms\", which outputs the **number** of possible **permutations** of rolling two 6-sided dice and assign it to a variable called \"permutations\".\n",
        "\t# One called \"combs\", which outputs the **number** of possible **combinations** of rolling two 6-sided dice and assigns it to a variable called \"combinations\".\n",
        "\t# Hint: The formulas for these are below, where n is the number of possible \n",
        "\t# outcomes for one trial and r is the number of outcomes you will pick at a time. \n",
        "\t# The contextual difference is that order matters for permutations, meaning the \n",
        "\t# same two numbers in a different order count as two unique permutations. For combinations, the order doesn't matter.\n",
        "\n",
        "# permutation formula = n! / (n-r)!\n",
        "# combination formula = n! / (n-r)!r!\n",
        "\n",
        "import numpy\n",
        "\n",
        "def perms (outcomes: int, picks: int) -> int:\n",
        "\tfor i in range(int(outcomes), 1, -2):\n",
        "\t\toutcomefact = []\n",
        "\t\tanswer = (i - 1) * i\n",
        "\t\toutcomefact.append(answer)\n",
        "\tnumerator = numpy.prod(outcomefact)\n",
        "\tfor k in range((int(outcomes)-int(picks)), 1, -2):\n",
        "\t\tanswer2 = (k - 1) * k\n",
        "\t\tdenominatorfact = []\n",
        "\t\tdenominatorfact.append(answer)\n",
        "\tdenominator = numpy.prod(denominatorfact)\n",
        "\tnum_permutations = numerator / denominator\n",
        "\treturn(num_permutations)\n",
        "\n",
        "permutations = perms(6, 2)\n",
        "print(permutations)\n",
        "\n",
        "\n",
        "# def combs (outcomes: int, picks: int) -> int:\n",
        "# \treturn(number)\n",
        " \n",
        "# combinations = combs()\n",
        "# print(combinations)\n",
        "\n",
        "\n",
        "#factorial loop\n",
        "# for i in range(int(user_input), 1, -2):\n",
        "#   answer = (i - 1)*i\n",
        "#   factors.append(answer)\n",
        "\n",
        "# print(numpy.prod(factors))"
      ],
      "execution_count": 18,
      "outputs": [
        {
          "output_type": "stream",
          "text": [
            "1.0\n"
          ],
          "name": "stdout"
        }
      ]
    },
    {
      "cell_type": "markdown",
      "metadata": {
        "id": "7bTNjBy_NezI",
        "colab_type": "text"
      },
      "source": [
        "\n",
        "\n",
        "### P3.PY\n",
        "\n",
        "\n"
      ]
    },
    {
      "cell_type": "code",
      "metadata": {
        "id": "NC2JU5p1NezI",
        "colab_type": "code",
        "colab": {
          "base_uri": "https://localhost:8080/",
          "height": 129
        },
        "outputId": "da066004-5588-4521-9f75-c14171607706"
      },
      "source": [
        "\"\"\"\n",
        "Multiples\n",
        "\"\"\"\n",
        "\n",
        "# Write a function called \"sum_multiples\" that take two numbers and returns \n",
        "# the sum of their multiples between 0 and some limit. These three items should \n",
        "# be generalized as parameters.\n",
        "\n",
        "\n",
        "mult_n1 = []\n",
        "mult_n2 = []\n",
        "\n",
        "def sum_multiples (number1: int, number2: int, limit = 50) -> int:\n",
        "  i = number1\n",
        "  while i < limit: \n",
        "    if (limit - i) % number1 == 0:\n",
        "      mult_n1.append(i)\n",
        "      i += 1\n",
        "  k = number2\n",
        "  while k < limit: \n",
        "    if (limit - k) % number2 == 0:\n",
        "      mult_n2.append(k)\n",
        "      k += 1\n",
        "  answer = sum(mult_n1, mult_n2)\n",
        "  return(answer)\n",
        "\n",
        "first = sum_multiples(20,40,50)\n",
        "print(first)"
      ],
      "execution_count": 21,
      "outputs": [
        {
          "output_type": "error",
          "ename": "SyntaxError",
          "evalue": "ignored",
          "traceback": [
            "\u001b[0;36m  File \u001b[0;32m\"<ipython-input-22-bb5acd61f0f0>\"\u001b[0;36m, line \u001b[0;32m14\u001b[0m\n\u001b[0;31m    for number1:\u001b[0m\n\u001b[0m               ^\u001b[0m\n\u001b[0;31mSyntaxError\u001b[0m\u001b[0;31m:\u001b[0m invalid syntax\n"
          ]
        }
      ]
    },
    {
      "cell_type": "markdown",
      "metadata": {
        "id": "ARbsmw_mNezL",
        "colab_type": "text"
      },
      "source": [
        "## DATA_MANIPULATION\n",
        "\n",
        "\n"
      ]
    },
    {
      "cell_type": "markdown",
      "metadata": {
        "id": "wTd0ZSSeN4Y8",
        "colab_type": "text"
      },
      "source": [
        "### P1.PY"
      ]
    },
    {
      "cell_type": "code",
      "metadata": {
        "id": "iUq-vFf2NezM",
        "colab_type": "code",
        "colab": {
          "base_uri": "https://localhost:8080/",
          "height": 231
        },
        "outputId": "087ced52-c1c5-41ef-8eee-f625fb9fe558"
      },
      "source": [
        "\"\"\"\n",
        "File Organization\n",
        "\"\"\"\n",
        "\n",
        "# The dict \"files\" below contains file names and the name of the person who \n",
        "# owns each file. Write and call a function to reorganize \"files\" such that it \n",
        "# contains each person's name and the files he/she owns. Assign the resultant \n",
        "# dict to a new dict called \"grouped_by_owner\". Print out the key value pairs in \n",
        "# this format - key: value.\n",
        "\n",
        "# Function name should be: group_by_owners\n",
        "# Dict of results should be named: files_by_owner\n",
        "\n",
        "files = {\n",
        "  'Input1.txt': 'Beau',\n",
        "  'Code1.py': 'Mischa',\n",
        "  'Output1.txt': 'Beau',\n",
        "  'Input2.txt': 'Beau',\n",
        "  'Code2.py': 'Mischa',\n",
        "  'Output2.txt': 'Beau',\n",
        "  'Input3.txt': 'Percy',\n",
        "  'Code3.py': 'Alejandra',\n",
        "  'Output3.txt': 'Percy'\n",
        "}\n",
        "\n",
        "def group_by_owners (name: str, files: str) -> str:\n",
        "  for key, value in files:\n",
        "    if value is 'Beau':\n",
        "      Beau = []\n",
        "      Beau.append(key)\n",
        "      print(Beau)\n",
        "    else:\n",
        "      files_by_owner_keys = ['Beau']\n",
        "      print(files_by_owner_keys)\n",
        "      files_by_owner_values = [Beau]\n",
        "      files_by_owner = dict(zip(files_by_owner_keys, files_by_owner_values))\n",
        "  return(files_by_owner)\n",
        "\n",
        "results = files_by_owner\n",
        "print(results)\n",
        "# grouped_by_owner = {(key, value)}\n",
        "\n"
      ],
      "execution_count": 34,
      "outputs": [
        {
          "output_type": "error",
          "ename": "NameError",
          "evalue": "ignored",
          "traceback": [
            "\u001b[0;31m---------------------------------------------------------------------------\u001b[0m",
            "\u001b[0;31mNameError\u001b[0m                                 Traceback (most recent call last)",
            "\u001b[0;32m<ipython-input-34-e57b59c0a7a4>\u001b[0m in \u001b[0;36m<module>\u001b[0;34m()\u001b[0m\n\u001b[1;32m     37\u001b[0m   \u001b[0;32mreturn\u001b[0m\u001b[0;34m(\u001b[0m\u001b[0mfiles_by_owner\u001b[0m\u001b[0;34m)\u001b[0m\u001b[0;34m\u001b[0m\u001b[0;34m\u001b[0m\u001b[0m\n\u001b[1;32m     38\u001b[0m \u001b[0;34m\u001b[0m\u001b[0m\n\u001b[0;32m---> 39\u001b[0;31m \u001b[0mresults\u001b[0m \u001b[0;34m=\u001b[0m \u001b[0mfiles_by_owner\u001b[0m\u001b[0;34m\u001b[0m\u001b[0;34m\u001b[0m\u001b[0m\n\u001b[0m\u001b[1;32m     40\u001b[0m \u001b[0mprint\u001b[0m\u001b[0;34m(\u001b[0m\u001b[0mresults\u001b[0m\u001b[0;34m)\u001b[0m\u001b[0;34m\u001b[0m\u001b[0;34m\u001b[0m\u001b[0m\n\u001b[1;32m     41\u001b[0m \u001b[0;31m# grouped_by_owner = {(key, value)}\u001b[0m\u001b[0;34m\u001b[0m\u001b[0;34m\u001b[0m\u001b[0;34m\u001b[0m\u001b[0m\n",
            "\u001b[0;31mNameError\u001b[0m: name 'files_by_owner' is not defined"
          ]
        }
      ]
    },
    {
      "cell_type": "markdown",
      "metadata": {
        "id": "-7KFDG5lNezO",
        "colab_type": "text"
      },
      "source": [
        "\n",
        "\n",
        "### P2.PY\n",
        "\n",
        "\n"
      ]
    },
    {
      "cell_type": "code",
      "metadata": {
        "id": "S5e9s-njNezP",
        "colab_type": "code",
        "outputId": "56f2a822-bbee-453d-9a79-abb22e630188",
        "colab": {
          "base_uri": "https://localhost:8080/",
          "height": 34
        }
      },
      "source": [
        "\"\"\"\n",
        "Clean Pairs\n",
        "\"\"\"\n",
        "\n",
        "# Below is a list of common food pairings. Write a function called \"cleaner\" \n",
        "# that cleans the data such that each list item is a tuple \n",
        "# (e.g. ('Milk', 'Cookies')). Assign the results to a variable called \"clean_pairs\".\n",
        "\n",
        "pairs = [('Milk', 'Cookies'), ('Peanut Butter - Jelly'), ('Spaghetti & Meatballs'), ('Eggs', 'Bacon'), ('Pancakes & Syrup'), ('Chicken - Waffles'), ('Peas', 'Carrots')]\n",
        "\n",
        "clean_pairs = []\n",
        "\n",
        "def cleaner (k, v) -> tuple:\n",
        "  for item in pairs(): \n",
        "    if len(item) == 2:\n",
        "      clean_pairs.append(item)\n",
        "      print(clean_pairs)\n",
        "    if '-' in item():\n",
        "      pair = item.split['-']\n",
        "      clean_pairs.append(pair)\n",
        "      print(clean_pairs)\n",
        "    if '&' in item:\n",
        "      pair = item.split['-']\n",
        "      clean_pairs.append(pair)\n",
        "      print(clean_pairs)\n",
        "  return clean_pairs\n",
        "\n",
        "\n",
        "print(clean_pairs)"
      ],
      "execution_count": 7,
      "outputs": [
        {
          "output_type": "stream",
          "text": [
            "[]\n"
          ],
          "name": "stdout"
        }
      ]
    },
    {
      "cell_type": "markdown",
      "metadata": {
        "id": "E39dQ-pONezT",
        "colab_type": "text"
      },
      "source": [
        "\n",
        "\n",
        "### P3.PY\n",
        "\n",
        "\n"
      ]
    },
    {
      "cell_type": "code",
      "metadata": {
        "id": "b6qFJuFfNezT",
        "colab_type": "code",
        "outputId": "c8a8bc5d-6bf3-40f6-bd27-566e757bbba9",
        "colab": {
          "base_uri": "https://localhost:8080/",
          "height": 34
        }
      },
      "source": [
        "\"\"\"\n",
        "Password Requirements\n",
        "\"\"\"\n",
        "\n",
        "# Write a Python program called \"pw_validator\" to validate a password based on the security requirements outlined below.\n",
        "\n",
        "# VALIDATION REQUIREMENTS:\n",
        "## At least 1 lowercase letter [a-z]\n",
        "## At least 1 uppercase letter [A-Z].\n",
        "## At least 1 number [0-9].\n",
        "## At least 1 special character [~!@#$%&*].\n",
        "## Min length 6 characters.\n",
        "## Max length 16 characters.\n",
        "\n",
        "\n",
        "letters = 'abcd...'\n",
        "\n",
        "chr(97)\n",
        "\n",
        "chrs = []\n",
        "capitalized = []\n",
        "\n",
        "for item in range(97, 124):\n",
        "  chars.append(chr(item))\n",
        "  capitalized.append(chr(item).upper())\n",
        "\n",
        "print(chars, capitalized)\n",
        "\n"
      ],
      "execution_count": 0,
      "outputs": [
        {
          "output_type": "execute_result",
          "data": {
            "text/plain": [
              "'a'"
            ]
          },
          "metadata": {
            "tags": []
          },
          "execution_count": 9
        }
      ]
    },
    {
      "cell_type": "markdown",
      "metadata": {
        "id": "X8kPjts_NezV",
        "colab_type": "text"
      },
      "source": [
        "\n",
        "\n",
        "### P4.PY\n",
        "\n",
        "\n"
      ]
    },
    {
      "cell_type": "code",
      "metadata": {
        "id": "AucIC9Z8NezW",
        "colab_type": "code",
        "colab": {
          "base_uri": "https://localhost:8080/",
          "height": 197
        },
        "outputId": "96dd3905-705d-43d6-9b00-2c581ef59326"
      },
      "source": [
        "\"\"\"\n",
        "Rainbows & Wobniars\n",
        "\"\"\"\n",
        "\n",
        "# # Write a function called \"wobniar\", which should contain the local variable \n",
        "# \"rainbow\" below. The function should collect every other color of the rainbow \n",
        "# starting at index 0 and add each one to a new list. When you add each color, \n",
        "# it should be spelled backwards. For example, the word 'sing' would be added to \n",
        "# the new list as 'gnis'. Return and print the list.\n",
        "\n",
        "\n",
        "def wobniar (colors: str):\n",
        "  rainbow = ['red', 'orange', 'yellow', 'green', 'blue', 'indigo', 'violet']\n",
        "  for i in rainbow:\n",
        "    if i % 2 != 0:\n",
        "      offset = []\n",
        "      offset.append(i[::-1])\n",
        "      print(offset)\n",
        "  return(offset)\n",
        "\n",
        "wobinar\n",
        "print(wobinar())"
      ],
      "execution_count": 40,
      "outputs": [
        {
          "output_type": "error",
          "ename": "NameError",
          "evalue": "ignored",
          "traceback": [
            "\u001b[0;31m---------------------------------------------------------------------------\u001b[0m",
            "\u001b[0;31mNameError\u001b[0m                                 Traceback (most recent call last)",
            "\u001b[0;32m<ipython-input-40-0de97fe8e9b3>\u001b[0m in \u001b[0;36m<module>\u001b[0;34m()\u001b[0m\n\u001b[1;32m     19\u001b[0m   \u001b[0;32mreturn\u001b[0m\u001b[0;34m(\u001b[0m\u001b[0moffset\u001b[0m\u001b[0;34m)\u001b[0m\u001b[0;34m\u001b[0m\u001b[0;34m\u001b[0m\u001b[0m\n\u001b[1;32m     20\u001b[0m \u001b[0;34m\u001b[0m\u001b[0m\n\u001b[0;32m---> 21\u001b[0;31m \u001b[0mprint\u001b[0m\u001b[0;34m(\u001b[0m\u001b[0mwobinar\u001b[0m\u001b[0;34m(\u001b[0m\u001b[0;34m)\u001b[0m\u001b[0;34m)\u001b[0m\u001b[0;34m\u001b[0m\u001b[0;34m\u001b[0m\u001b[0m\n\u001b[0m",
            "\u001b[0;31mNameError\u001b[0m: name 'wobinar' is not defined"
          ]
        }
      ]
    },
    {
      "cell_type": "markdown",
      "metadata": {
        "id": "4gyJyWF1Nezc",
        "colab_type": "text"
      },
      "source": [
        "\n",
        "\n",
        "### P5.PY\n",
        "\n",
        "\n"
      ]
    },
    {
      "cell_type": "code",
      "metadata": {
        "id": "aW8b7Bk_Neze",
        "colab_type": "code",
        "colab": {}
      },
      "source": [
        "\"\"\"\n",
        "Speeding Tickets\n",
        "\"\"\"\n",
        "\n",
        "# Imagine you're a cop waiting on the side of the road to pick up speeders. Write a function called \"speeders\" to check the speed of drivers and record their license plate numbers.\n",
        "## If speed is less than or equal 70 (mph), it should print \"Good\". \n",
        "## If the speed is greater than 70, find the license plate number of that driver in your \"driver_points\" dict (see below) and add a point to their license for every 5 full mph above the speed limit.\n",
        "## If at any point that driver has 12 or more points on his/her license, print \"License Suspended\".\n",
        "## Call the function on each driver in the \"passing_cars\" dict below to see difference use cases work.\n",
        "\n",
        "# p.s. Feel free to move these around in your code as needed.\n",
        "passing_cars = { # license plate nums & speed\n",
        "  '4GRONPH': 68,\n",
        "  'OJGL6WD': 82,\n",
        "  'Q5517FA': 70,\n",
        "  'S0PNWEJ': 95,\n",
        "  'RM23RXC': 64,\n",
        "  'KH5TH8D': 100,\n",
        "  'IHEHJ4P': 67,\n",
        "  'SVK90LT': 73,\n",
        "  'LJSV4N1': 88,\n",
        "  'KDRLGXM': 91\n",
        "}\n",
        "\n",
        "driver_points = { # license plate nums & points\n",
        "  '4GRONPH': 8,\n",
        "  'OJGL6WD': 12,\n",
        "  'Q5517FA': 1,\n",
        "  'S0PNWEJ': 2,\n",
        "  'RM23RXC': 6,\n",
        "  'KH5TH8D': 7,\n",
        "  'IHEHJ4P': 10,\n",
        "  'SVK90LT': 5,\n",
        "  'LJSV4N1': 3,\n",
        "  'KDRLGXM': 9\n",
        "  }\n",
        "\n",
        "\n"
      ],
      "execution_count": 0,
      "outputs": []
    }
  ]
}