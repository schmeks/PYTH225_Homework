{
  "nbformat": 4,
  "nbformat_minor": 0,
  "metadata": {
    "colab": {
      "name": "Copy of lists_psets_Rebecca Mason_20200322.ipynb",
      "provenance": [],
      "collapsed_sections": [
        "m40a2IGVVI_-",
        "fyknlYbQVJAj"
      ],
      "include_colab_link": true
    },
    "kernelspec": {
      "name": "python3",
      "display_name": "Python 3"
    }
  },
  "cells": [
    {
      "cell_type": "markdown",
      "metadata": {
        "id": "view-in-github",
        "colab_type": "text"
      },
      "source": [
        "<a href=\"https://colab.research.google.com/github/schmeks/PYTH225_Homework/blob/master/Copy_of_lists_psets_Rebecca_Mason_20200322.ipynb\" target=\"_parent\"><img src=\"https://colab.research.google.com/assets/colab-badge.svg\" alt=\"Open In Colab\"/></a>"
      ]
    },
    {
      "cell_type": "markdown",
      "metadata": {
        "id": "Yr_KNJCvVI_l",
        "colab_type": "text"
      },
      "source": [
        "#  LISTS"
      ]
    },
    {
      "cell_type": "markdown",
      "metadata": {
        "id": "wnygsOhDVRof",
        "colab_type": "text"
      },
      "source": [
        "## LIST OPS"
      ]
    },
    {
      "cell_type": "markdown",
      "metadata": {
        "id": "3YuVvl6vVSvP",
        "colab_type": "text"
      },
      "source": [
        "### P1.PY"
      ]
    },
    {
      "cell_type": "code",
      "metadata": {
        "id": "Ir33rYgDVI_m",
        "colab_type": "code",
        "outputId": "1310eb7b-da80-4923-b02a-b1b0f53dfa61",
        "colab": {
          "base_uri": "https://localhost:8080/",
          "height": 136
        }
      },
      "source": [
        "\"\"\"\n",
        "Basic List Operations I\n",
        "\"\"\"\n",
        "\n",
        "# Create a list including these five animals - elephant, tiger, otter, orangutan, and penguin.\n",
        "\n",
        "animals =[\"elephant\", \"tiger\", \"otter\", \"orangutan\", \"penguin\"]\n",
        "print(animals)\n",
        "\n",
        "# Print the 4th animal on the list.\n",
        "\n",
        "print(animals[3])\n",
        "\n",
        "# Add 'tortoise' to the beginning of the list.\n",
        "\n",
        "animals.insert(0,\"tortise\")\n",
        "print(animals)\n",
        "\n",
        "# Print the length of the list.\n",
        "\n",
        "print(len(animals))\n",
        "print(animals)\n",
        "\n",
        "# Remove 'orangutan' from the list.\n",
        "\n",
        "animals.pop(4)\n",
        "print(animals)\n",
        "\n",
        "# Sort the list alphabetically and print it out.\n",
        "\n",
        "animals.sort()\n",
        "print(animals)\n"
      ],
      "execution_count": 0,
      "outputs": [
        {
          "output_type": "stream",
          "text": [
            "['elephant', 'tiger', 'otter', 'orangutan', 'penguin']\n",
            "orangutan\n",
            "['tortise', 'elephant', 'tiger', 'otter', 'orangutan', 'penguin']\n",
            "6\n",
            "['tortise', 'elephant', 'tiger', 'otter', 'orangutan', 'penguin']\n",
            "['tortise', 'elephant', 'tiger', 'otter', 'penguin']\n",
            "['elephant', 'otter', 'penguin', 'tiger', 'tortise']\n"
          ],
          "name": "stdout"
        }
      ]
    },
    {
      "cell_type": "markdown",
      "metadata": {
        "id": "iopPhVNUVI_p",
        "colab_type": "text"
      },
      "source": [
        "\n",
        "\n",
        "### P2.PY\n",
        "\n",
        "\n"
      ]
    },
    {
      "cell_type": "code",
      "metadata": {
        "id": "4kMd_uBjVI_q",
        "colab_type": "code",
        "outputId": "c46a599d-b4ee-4b27-ab34-c49229e3d061",
        "colab": {
          "base_uri": "https://localhost:8080/",
          "height": 136
        }
      },
      "source": [
        "\"\"\"\n",
        "Basic List Operations II\n",
        "\"\"\"\n",
        "\n",
        "# Declare a list with 5 names, and print out the length of that list.\n",
        "names = None\n",
        "\n",
        "names = ['Aaron', 'Sophie', 'Robert', 'Patrick', 'Alison']\n",
        "print(names)\n",
        "print(len(names))\n",
        "\n",
        "# Print the 3rd name on the list\n",
        "\n",
        "print(names[2])\n",
        "\n",
        "# Delete the first name on the list\n",
        "\n",
        "names.pop(0)\n",
        "print(names)\n",
        "\n",
        "# Re-add the name you deleted to the end of the list\n",
        "\n",
        "names.append('Aaron')\n",
        "print(names)\n",
        "\n",
        "# Replace the 2nd name on the list with a new name.\n",
        "\n",
        "names[1] = \"Emily\"\n",
        "print(names)\n",
        "\n",
        "# Add 3 new names to the end of the list.\n",
        "\n",
        "names2 = ['Adam', 'Matt', 'Bridgit']\n",
        "names.extend(names2)\n",
        "print(names)\n",
        "\n"
      ],
      "execution_count": 0,
      "outputs": [
        {
          "output_type": "stream",
          "text": [
            "['Aaron', 'Sophie', 'Robert', 'Patrick', 'Alison']\n",
            "5\n",
            "Robert\n",
            "['Sophie', 'Robert', 'Patrick', 'Alison']\n",
            "['Sophie', 'Robert', 'Patrick', 'Alison', 'Aaron']\n",
            "['Sophie', 'Emily', 'Patrick', 'Alison', 'Aaron']\n",
            "['Sophie', 'Emily', 'Patrick', 'Alison', 'Aaron', 'Adam', 'Matt', 'Bridgit']\n"
          ],
          "name": "stdout"
        }
      ]
    },
    {
      "cell_type": "markdown",
      "metadata": {
        "id": "lydOzGvFVI_6",
        "colab_type": "text"
      },
      "source": [
        "\n",
        "\n",
        "### P3.PY\n",
        "\n",
        "\n"
      ]
    },
    {
      "cell_type": "code",
      "metadata": {
        "id": "86gQFKLNVI_7",
        "colab_type": "code",
        "outputId": "ae04a336-3e91-4abc-ded6-aab4a9b1f2eb",
        "colab": {
          "base_uri": "https://localhost:8080/",
          "height": 136
        }
      },
      "source": [
        "\"\"\"\n",
        "Math Operations\n",
        "\"\"\"\n",
        "\n",
        "# Save a list with the numbers `2`, `4`, `6`, and `8` into a variable called `numbers`. Use this variable for all the problems in this PSET.\n",
        "\n",
        "numbers = None\n",
        "\n",
        "# Print the max of `numbers`.\n",
        "\n",
        "numbers = [2, 4, 6, 8]\n",
        "print(numbers)\n",
        "print(max(numbers))\n",
        "\n",
        "# Pop the last element in `numbers` off; re-insert it at index `2` and print the resultant list.\n",
        "\n",
        "numbers.pop(-1)\n",
        "print(numbers)\n",
        "\n",
        "numbers.insert(2, 8)\n",
        "print(numbers)\n",
        "\n",
        "# Pop the second number in `numbers` off.\n",
        "\n",
        "numbers.pop(1)\n",
        "print(numbers)\n",
        "\n",
        "# Append `3` to `numbers`.\n",
        "\n",
        "numbers.append(3)\n",
        "print(numbers)\n",
        "\n",
        "# Print out the average number.\n",
        "\n",
        "print(sum(numbers)/len(numbers))\n"
      ],
      "execution_count": 0,
      "outputs": [
        {
          "output_type": "stream",
          "text": [
            "[2, 4, 6, 8]\n",
            "8\n",
            "[2, 4, 6]\n",
            "[2, 4, 8, 6]\n",
            "[2, 8, 6]\n",
            "[2, 8, 6, 3]\n",
            "4.75\n"
          ],
          "name": "stdout"
        }
      ]
    },
    {
      "cell_type": "markdown",
      "metadata": {
        "id": "m40a2IGVVI_-",
        "colab_type": "text"
      },
      "source": [
        "\n",
        "\n",
        "## SORTING\n",
        "\n",
        "\n"
      ]
    },
    {
      "cell_type": "markdown",
      "metadata": {
        "id": "2XYhGsPjVUx8",
        "colab_type": "text"
      },
      "source": [
        "### P1.PY"
      ]
    },
    {
      "cell_type": "code",
      "metadata": {
        "id": "NRi8DF1eVI_-",
        "colab_type": "code",
        "outputId": "4162ef3d-b19a-4298-9422-c4fffdd45e71",
        "colab": {
          "base_uri": "https://localhost:8080/",
          "height": 68
        }
      },
      "source": [
        "\"\"\"\n",
        "Spotify Playlists - Sorting\n",
        "\"\"\"\n",
        "\n",
        "# You work for Spotify and are creating a feature for users to alphabetize their playlists by song title. Below is a list of titles from a sample playlist.\n",
        "\n",
        "playlist_titles = ['Tiny Dancer', 'At Last', 'Fortunate Son', \n",
        "'Hey Jude', 'Isn\\'t She Lovely', 'Just the Way You Are', 'I\\'m Yours',\n",
        "'Vienna', 'Roxanne', 'Dancing in the Moonlight']\n",
        "print(playlist_titles)\n",
        "\n",
        "# Alphabetize these songs and print the result.\n",
        "\n",
        "ascending = sorted(playlist_titles)\n",
        "print(ascending)\n",
        "\n",
        "# Now do the reverse.\n",
        "\n",
        "descending = sorted(playlist_titles, reverse = True)\n",
        "print(descending)\n"
      ],
      "execution_count": 13,
      "outputs": [
        {
          "output_type": "stream",
          "text": [
            "['Tiny Dancer', 'At Last', 'Fortunate Son', 'Hey Jude', \"Isn't She Lovely\", 'Just the Way You Are', \"I'm Yours\", 'Vienna', 'Roxanne', 'Dancing in the Moonlight']\n",
            "['At Last', 'Dancing in the Moonlight', 'Fortunate Son', 'Hey Jude', \"I'm Yours\", \"Isn't She Lovely\", 'Just the Way You Are', 'Roxanne', 'Tiny Dancer', 'Vienna']\n",
            "['Vienna', 'Tiny Dancer', 'Roxanne', 'Just the Way You Are', \"Isn't She Lovely\", \"I'm Yours\", 'Hey Jude', 'Fortunate Son', 'Dancing in the Moonlight', 'At Last']\n"
          ],
          "name": "stdout"
        }
      ]
    },
    {
      "cell_type": "markdown",
      "metadata": {
        "id": "0xVs38QYVJAA",
        "colab_type": "text"
      },
      "source": [
        "\n",
        "\n",
        "### P2.PY\n",
        "\n",
        "\n"
      ]
    },
    {
      "cell_type": "code",
      "metadata": {
        "id": "VXtT3BB0VJAB",
        "colab_type": "code",
        "colab": {
          "base_uri": "https://localhost:8080/",
          "height": 34
        },
        "outputId": "5ebfd77d-8c02-4b92-eea4-a3b799fa1022"
      },
      "source": [
        "\"\"\"\n",
        "Ordering Random Numbers\n",
        "\"\"\"\n",
        "\n",
        "# Create a list of 6 randomly generated numbers called numbers and sort it in descending order.\n",
        "\n",
        "import random\n",
        "\n",
        "numbers = random.sample(range(0, 100), 6)\n",
        "descending = numbers.sort(reverse = True)\n",
        "print(numbers)\n"
      ],
      "execution_count": 51,
      "outputs": [
        {
          "output_type": "stream",
          "text": [
            "[86, 80, 59, 37, 9, 4]\n"
          ],
          "name": "stdout"
        }
      ]
    },
    {
      "cell_type": "markdown",
      "metadata": {
        "id": "cN7amwMkVJAR",
        "colab_type": "text"
      },
      "source": [
        "## LIST MANIPULATION\n"
      ]
    },
    {
      "cell_type": "markdown",
      "metadata": {
        "id": "ImDqbHx5VY4P",
        "colab_type": "text"
      },
      "source": [
        "### P1.PY"
      ]
    },
    {
      "cell_type": "code",
      "metadata": {
        "id": "z8OOTUg6VJAT",
        "colab_type": "code",
        "outputId": "8644e51d-bb35-4b28-b6ff-726812ffa64f",
        "colab": {
          "base_uri": "https://localhost:8080/",
          "height": 51
        }
      },
      "source": [
        "\"\"\"\n",
        "Phone Numbers\n",
        "\"\"\"\n",
        "\n",
        "# Parse this phone number so that a computer can process\n",
        "# it. (Hint: It can't include any non-numeric\n",
        "# characters.)\n",
        "\n",
        "cell = '1.192.168.0143'\n",
        "\n",
        "parsed = cell.split('.')\n",
        "print(parsed)\n",
        "number = ' '.join(parsed)\n",
        "print(number)"
      ],
      "execution_count": 0,
      "outputs": [
        {
          "output_type": "stream",
          "text": [
            "['1', '192', '168', '0143']\n",
            "1 192 168 0143\n"
          ],
          "name": "stdout"
        }
      ]
    },
    {
      "cell_type": "markdown",
      "metadata": {
        "id": "HpUeu1YiVJAX",
        "colab_type": "text"
      },
      "source": [
        "\n",
        "\n",
        "### P2.PY\n",
        "\n",
        "\n"
      ]
    },
    {
      "cell_type": "code",
      "metadata": {
        "id": "O1ZpW64qVJAa",
        "colab_type": "code",
        "outputId": "f0fb81a5-3767-4369-eb53-d5a1bb07d0df",
        "colab": {
          "base_uri": "https://localhost:8080/",
          "height": 102
        }
      },
      "source": [
        "\"\"\"\n",
        "Basic Math Ops\n",
        "\"\"\"\n",
        "\n",
        "# Given the list below, assign the correct values to the variables below.\n",
        "\t# my_sum = \n",
        "\t# my_min = \n",
        "\t# my_max = \n",
        "\t# my_range = \n",
        "\t# my_mean =\n",
        "\n",
        "nums = [2, 19, 20, 12, 6, 24, 8, 30, 28, 25]\n",
        "\n",
        "\n",
        "# Once you finish, print out each value **on its own line** in this format: \"my_median = \" etc.\n",
        "\n",
        "my_sum = sum(nums)\n",
        "print(my_sum)\n",
        "my_min = min(nums)\n",
        "print(my_min)\n",
        "my_max = max(nums)\n",
        "print(my_max)\n",
        "my_range = [my_min, my_max]\n",
        "print(my_range)\n",
        "my_mean = (my_sum/len(nums))\n",
        "print(my_mean)\n"
      ],
      "execution_count": 0,
      "outputs": [
        {
          "output_type": "stream",
          "text": [
            "174\n",
            "2\n",
            "30\n",
            "[2, 30]\n",
            "17.4\n"
          ],
          "name": "stdout"
        }
      ]
    },
    {
      "cell_type": "markdown",
      "metadata": {
        "id": "X3BMzIHyVJAd",
        "colab_type": "text"
      },
      "source": [
        "\n",
        "\n",
        "### P3.PY\n",
        "\n",
        "\n"
      ]
    },
    {
      "cell_type": "code",
      "metadata": {
        "id": "jz3ccPm3VJAe",
        "colab_type": "code",
        "outputId": "5b609b67-8542-49b9-9389-5da66177e757",
        "colab": {
          "base_uri": "https://localhost:8080/",
          "height": 136
        }
      },
      "source": [
        "\"\"\"\n",
        "Merge Lists with Duplicates\n",
        "\"\"\"\n",
        "\n",
        "# Use the two lists below to solve this problem. Print out the result from each section as you go along.\n",
        "\n",
        "list1, list2 = [2, 8, 6], [10, 4, 12]\n",
        "print(list1)\n",
        "print(list2)\n",
        "\n",
        "# A) Add another instance of each item in list1 to list1 again and assign the results to list3.\n",
        "e1, e2, e3 = list1\n",
        "list3 = [e1, e2, e3, e1, e2, e3]\n",
        "print(list3)\n",
        "\n",
        "# B) Combine the two given lists and assign them to list4.\n",
        "list4 = [e1, e2, e3, list2]\n",
        "print(list4)\n",
        "\n",
        "# C) Replace the first 3 items in list 3 with the numbers 13, 16, 9.\n",
        "list3[:1] = [13, 16, 9]\n",
        "print(list3)\n",
        "\n",
        "# D) Merge list3 and list4 to create a list containing no duplicates and store this in list5.\n",
        "list5 = [list3, list4]\n",
        "print(list5)\n",
        "\n",
        "print(\"Not really sure how to do this last bit\")\n",
        "\n",
        "# Take a look at your printed statements to see the evolution of your lists with each step of this problem.\n"
      ],
      "execution_count": 30,
      "outputs": [
        {
          "output_type": "stream",
          "text": [
            "[2, 8, 6]\n",
            "[10, 4, 12]\n",
            "[2, 8, 6, 2, 8, 6]\n",
            "[2, 8, 6, [10, 4, 12]]\n",
            "[13, 16, 9, 8, 6, 2, 8, 6]\n",
            "[[13, 16, 9, 8, 6, 2, 8, 6], [2, 8, 6, [10, 4, 12]]]\n",
            "Not really sure how to do this last bit\n"
          ],
          "name": "stdout"
        }
      ]
    },
    {
      "cell_type": "markdown",
      "metadata": {
        "id": "Qqtm5kHYVJAg",
        "colab_type": "text"
      },
      "source": [
        "\n",
        "\n",
        "### P4.PY\n",
        "\n",
        "\n"
      ]
    },
    {
      "cell_type": "code",
      "metadata": {
        "id": "wgF_gvjVVJAh",
        "colab_type": "code",
        "outputId": "967d7a12-f2db-4da1-ab52-51192974f6bc",
        "colab": {
          "base_uri": "https://localhost:8080/",
          "height": 136
        }
      },
      "source": [
        "\"\"\"\n",
        "Cool Runnings!\n",
        "\"\"\"\n",
        "\n",
        "# Here's a quote from the movie 'Cool Runnings'. :)\n",
        "\n",
        "# Replace the word bobsled with \"YOLO\" and print the resultant list as 4 sentences (i.e. NOT a list), each on a new line.\n",
        "\n",
        "cool_runnings = [\n",
        "\t'Feel', 'the', 'rhythm.',\n",
        "\t'Feel', 'the', 'rhyme.',\n",
        "\t'Get', 'on', 'up.',\n",
        "\t'It\\'s', 'bobsled', 'time!'\n",
        "]\n",
        "\n",
        "cool_runnings[10] = 'YOLO'\n",
        "print(cool_runnings)\n",
        "\n",
        "sentence1 = ' '.join(cool_runnings[0:3])\n",
        "sentence2 = ' '.join(cool_runnings[3:6])\n",
        "sentence3 = ' '.join(cool_runnings[6:9])\n",
        "sentence4 = ' '.join(cool_runnings[9:12])\n",
        "\n",
        "print(f\"\"\"\n",
        "{sentence1}\n",
        "{sentence2}\n",
        "{sentence3}\n",
        "{sentence4}\n",
        "\"\"\")"
      ],
      "execution_count": 0,
      "outputs": [
        {
          "output_type": "stream",
          "text": [
            "['Feel', 'the', 'rhythm.', 'Feel', 'the', 'rhyme.', 'Get', 'on', 'up.', \"It's\", 'YOLO', 'time!']\n",
            "\n",
            "Feel the rhythm.\n",
            "Feel the rhyme.\n",
            "Get on up.\n",
            "It's YOLO time!\n",
            "\n"
          ],
          "name": "stdout"
        }
      ]
    },
    {
      "cell_type": "markdown",
      "metadata": {
        "id": "fyknlYbQVJAj",
        "colab_type": "text"
      },
      "source": [
        "## LIST CHALLENGES\n",
        "\n",
        "\n"
      ]
    },
    {
      "cell_type": "markdown",
      "metadata": {
        "id": "qYrO5tA-VdxK",
        "colab_type": "text"
      },
      "source": [
        "### P1.PY"
      ]
    },
    {
      "cell_type": "code",
      "metadata": {
        "id": "R1ouYtGvVJAq",
        "colab_type": "code",
        "colab": {
          "base_uri": "https://localhost:8080/",
          "height": 51
        },
        "outputId": "8706cd1c-481e-4753-a052-560bbdf2b762"
      },
      "source": [
        "\"\"\"\n",
        "CHALLENGE - Extensions\n",
        "\"\"\"\n",
        "\n",
        "# ** Challenge** Add each element of the tuple1 to list1 *individually* and print the result.\n",
        "\n",
        "list1 = [6, 12, 9, 4, 10, 1]\n",
        "tuple1 = [(15,3), (6,2), (1, 8)]\n",
        "\n",
        "element1, element2, element3 = tuple1\n",
        "print(element1)\n",
        "\n",
        "e1a, e1b = element1\n",
        "e2a, e2b = element2\n",
        "e3a, e3b = element3\n",
        "\n",
        "NEWlist1 = list1, e1a, e1b, e2a, e2b, e3a, e3b\n",
        "print(NEWlist1)"
      ],
      "execution_count": 12,
      "outputs": [
        {
          "output_type": "stream",
          "text": [
            "(15, 3)\n",
            "([6, 12, 9, 4, 10, 1], 15, 3, 6, 2, 1, 8)\n"
          ],
          "name": "stdout"
        }
      ]
    },
    {
      "cell_type": "markdown",
      "metadata": {
        "id": "X5MSdZzXVJAt",
        "colab_type": "text"
      },
      "source": [
        "\n",
        "\n",
        "### P2.PY\n",
        "\n",
        "\n"
      ]
    },
    {
      "cell_type": "code",
      "metadata": {
        "id": "xyu2RSZcVJAt",
        "colab_type": "code",
        "colab": {
          "base_uri": "https://localhost:8080/",
          "height": 102
        },
        "outputId": "45bf8531-13a0-4840-ea9d-7892e55c602b"
      },
      "source": [
        "\"\"\"\n",
        "CHALLENGE - Core Statistics Calculations\n",
        "\"\"\"\n",
        "\n",
        "# Given the sample below, find the mean, median, mode, variance, and standard deviation of this sample. Print them out separately, but in the same format as before.\n",
        "\t# my_median = \n",
        "\t# my_mode = \n",
        "\t# my_variance = \n",
        "\t# my_sd = \n",
        "\n",
        "sample = [6, 19, 20, 12, 6, 24, 8, 30, 28, 25]\n",
        "\n",
        "midpoint = len(sample)/2\n",
        "print(midpoint)\n",
        "\n",
        "my_median = sum(sample[4:6])/2\n",
        "print(f'my_median = {my_median}')\n",
        "\n",
        "import statistics\n",
        "my_mode = statistics.mode(sample)\n",
        "print(f'my_mode = {my_mode}')\n",
        "\n",
        "my_variance = statistics.variance(sample)\n",
        "print(f'my_variance = {my_variance}')\n",
        "\n",
        "my_sd = statistics.stdev(sample)\n",
        "print(f'my_stdev = {my_sd}')\n",
        "# Once you finish, print out each value **on its own line** in this format: \"median = \" etc.\n"
      ],
      "execution_count": 68,
      "outputs": [
        {
          "output_type": "stream",
          "text": [
            "5.0\n",
            "my_median = 15.0\n",
            "my_mode = 6\n",
            "my_variance = 84.17777777777778\n",
            "my_stdev = 9.174844836714012\n"
          ],
          "name": "stdout"
        }
      ]
    }
  ]
}