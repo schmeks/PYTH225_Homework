{
  "nbformat": 4,
  "nbformat_minor": 0,
  "metadata": {
    "colab": {
      "name": "Copy of basic_data_types_psets_Rebecca Mason.ipynb",
      "provenance": [],
      "collapsed_sections": [
        "0o8YPHxoVrWL",
        "poqjlnEOVrWh",
        "pRORE6K8VrWy"
      ],
      "include_colab_link": true
    },
    "kernelspec": {
      "name": "python3",
      "display_name": "Python 3"
    }
  },
  "cells": [
    {
      "cell_type": "markdown",
      "metadata": {
        "id": "view-in-github",
        "colab_type": "text"
      },
      "source": [
        "<a href=\"https://colab.research.google.com/github/schmeks/PYTH225_Homework/blob/master/Copy_of_basic_data_types_psets_Rebecca_Mason.ipynb\" target=\"_parent\"><img src=\"https://colab.research.google.com/assets/colab-badge.svg\" alt=\"Open In Colab\"/></a>"
      ]
    },
    {
      "cell_type": "markdown",
      "metadata": {
        "id": "hFmxhgDQVrV8",
        "colab_type": "text"
      },
      "source": [
        "#  BASIC DATA TYPES\n",
        "\n"
      ]
    },
    {
      "cell_type": "markdown",
      "metadata": {
        "id": "uayAR97cWGX1",
        "colab_type": "text"
      },
      "source": [
        "## EASY"
      ]
    },
    {
      "cell_type": "markdown",
      "metadata": {
        "id": "CXt8F7evWHum",
        "colab_type": "text"
      },
      "source": [
        "### P1.PY"
      ]
    },
    {
      "cell_type": "code",
      "metadata": {
        "id": "gYyR5LKAVrWA",
        "colab_type": "code",
        "outputId": "bd7db70c-46ef-429c-91e0-2609f4c14940",
        "colab": {
          "base_uri": "https://localhost:8080/",
          "height": 34
        }
      },
      "source": [
        "\"\"\"\n",
        "Placeholders\n",
        "\"\"\"\n",
        "\n",
        "# You're writing a program, and you don't know what your starting value for your 'initial' variable is yet. The program won't run if you leave it blank, but you don't want to forget you need it! Make a workaround.\n",
        "\n",
        "variable = None\n",
        "print(variable)"
      ],
      "execution_count": 0,
      "outputs": [
        {
          "output_type": "stream",
          "text": [
            "None\n"
          ],
          "name": "stdout"
        }
      ]
    },
    {
      "cell_type": "markdown",
      "metadata": {
        "id": "ujd4_d5VVrWD",
        "colab_type": "text"
      },
      "source": [
        "\n",
        "\n",
        "### P2.PY\n",
        "\n",
        "\n"
      ]
    },
    {
      "cell_type": "code",
      "metadata": {
        "id": "9p_mg-MjVrWE",
        "colab_type": "code",
        "outputId": "b1f43dae-4f08-4a1c-e1df-2865d732e1c7",
        "colab": {
          "base_uri": "https://localhost:8080/",
          "height": 51
        }
      },
      "source": [
        "\"\"\"\n",
        "Basic Variables\n",
        "\"\"\"\n",
        "\n",
        "# Create a variable that represents your favorite number, and add a note to remind yourself what this variable represents. Now print it out without re-typing the number.\n",
        "\n",
        "variable = 12 #lol\n",
        "print(variable)\n",
        "\n",
        "# Create another variable that represents your favorite color, and do the same steps as above.\n",
        "color = \"green\"\n",
        "print(color)\n"
      ],
      "execution_count": 0,
      "outputs": [
        {
          "output_type": "stream",
          "text": [
            "12\n",
            "green\n"
          ],
          "name": "stdout"
        }
      ]
    },
    {
      "cell_type": "markdown",
      "metadata": {
        "id": "VbaMGAAYVrWH",
        "colab_type": "text"
      },
      "source": [
        "\n",
        "\n",
        "### P3.PY\n",
        "\n",
        "\n"
      ]
    },
    {
      "cell_type": "code",
      "metadata": {
        "id": "2i4mFvLGVrWI",
        "colab_type": "code",
        "outputId": "072554c7-5053-40e6-eb12-4eca00eeb522",
        "colab": {
          "base_uri": "https://localhost:8080/",
          "height": 119
        }
      },
      "source": [
        "\"\"\"\n",
        "String Formatting\n",
        "\"\"\"\n",
        "\n",
        "# Create a variable that contains the first 4 lines of lyrics from your favorite song. Add a comment that includes the song title and artist **each on their own line**! Now print out this variable.\n",
        "\n",
        "lyrics = \"\"\"\n",
        "maximize all the pleasure \n",
        "even with all this weather \n",
        "nothing can make it better \n",
        "maximize all the pleasure\n",
        "\"\"\"\n",
        "\n",
        "\"\"\"\n",
        "toro y moi\n",
        "ordinary pleasure\n",
        "\"\"\"\n",
        "\n",
        "print(lyrics)"
      ],
      "execution_count": 0,
      "outputs": [
        {
          "output_type": "stream",
          "text": [
            "\n",
            "maximize all the pleasure \n",
            "even with all this weather \n",
            "nothing can make it better \n",
            "maximize all the pleasure\n",
            "\n"
          ],
          "name": "stdout"
        }
      ]
    },
    {
      "cell_type": "markdown",
      "metadata": {
        "id": "poqjlnEOVrWh",
        "colab_type": "text"
      },
      "source": [
        "## OPERATORS\n",
        "\n",
        "\n",
        "\n"
      ]
    },
    {
      "cell_type": "markdown",
      "metadata": {
        "id": "3j0bS-HcWNLi",
        "colab_type": "text"
      },
      "source": [
        "### P1.PY"
      ]
    },
    {
      "cell_type": "code",
      "metadata": {
        "id": "poP19mJxVrWi",
        "colab_type": "code",
        "outputId": "391fbe97-8d2d-4c32-c986-a299028b6b80",
        "colab": {
          "base_uri": "https://localhost:8080/",
          "height": 119
        }
      },
      "source": [
        "\"\"\"\n",
        "Game Show Score\n",
        "\"\"\"\n",
        "\n",
        "# Imagine the var below represents the latest score of a competitor on a game \n",
        "# show. As this person plays, you need to update their score to reflect gains and \n",
        "# losses in points. Each math operation below dictates the change in the \n",
        "# competitor's score to be made after each of his or her actions.\n",
        "\n",
        "# Complete the below math operations and print the results to show the changes \n",
        "# in the competitor's score throughout the game.\n",
        "\n",
        "latest_score = 100\n",
        "print(latest_score)\n",
        "\n",
        "# Add 50\n",
        "\n",
        "latest_score = latest_score + 50\n",
        "print(latest_score)\n",
        "\n",
        "# Subtract 90\n",
        "\n",
        "latest_score = latest_score - 50\n",
        "print(latest_score)\n",
        "\n",
        "# Multiply 10\n",
        "\n",
        "latest_score = latest_score * 10\n",
        "print(latest_score)\n",
        "\n",
        "# Divide 150\n",
        "\n",
        "latest_score = latest_score / 150\n",
        "print(latest_score)\n",
        "\n",
        "# Modulus 3\n",
        "\n",
        "latest_score = latest_score % 3\n",
        "print(latest_score)\n"
      ],
      "execution_count": 0,
      "outputs": [
        {
          "output_type": "stream",
          "text": [
            "100\n",
            "150\n",
            "100\n",
            "1000\n",
            "6.666666666666667\n",
            "0.666666666666667\n"
          ],
          "name": "stdout"
        }
      ]
    },
    {
      "cell_type": "markdown",
      "metadata": {
        "id": "WAYZJHHgVrWk",
        "colab_type": "text"
      },
      "source": [
        "\n",
        "\n",
        "### P2.PY\n",
        "\n",
        "\n"
      ]
    },
    {
      "cell_type": "code",
      "metadata": {
        "id": "P067XIZ8VrWl",
        "colab_type": "code",
        "outputId": "2057ae07-158e-4411-d568-470226bc800c",
        "colab": {
          "base_uri": "https://localhost:8080/",
          "height": 51
        }
      },
      "source": [
        "\"\"\"\n",
        "String Operators\n",
        "\"\"\"\n",
        "\n",
        "# Create two variables, each of which is half of a compound sentence. \n",
        "## Example compound sentence: \"I'll go to the beach today, and I'll go snorkeling.\" \n",
        "\n",
        "variable_1 = \"We went to dinner\"\n",
        "variable_2 = \"and to the movies.\"\n",
        "print(variable_1)\n",
        "print(variable_2)"
      ],
      "execution_count": 0,
      "outputs": [
        {
          "output_type": "stream",
          "text": [
            "We went to dinner\n",
            "and to the movies.\n"
          ],
          "name": "stdout"
        }
      ]
    },
    {
      "cell_type": "markdown",
      "metadata": {
        "id": "TqqaKHjuVrWn",
        "colab_type": "text"
      },
      "source": [
        "\n",
        "\n",
        "### P3.PY\n",
        "\n",
        "\n"
      ]
    },
    {
      "cell_type": "code",
      "metadata": {
        "id": "H7kysyPYVrWo",
        "colab_type": "code",
        "outputId": "2fcdee0f-b426-481c-9889-75a727646ada",
        "colab": {
          "base_uri": "https://localhost:8080/",
          "height": 68
        }
      },
      "source": [
        "\"\"\"\n",
        "Addition I - Numbers & Strings\n",
        "\"\"\"\n",
        "\n",
        "# Add the below sets of variables together without causing any Type Errors. \n",
        "\n",
        "# A)\n",
        "a = 0\n",
        "b = 2\n",
        "\n",
        "sum_1 = a + b\n",
        "print(sum_1)\n",
        "\n",
        "# B)\n",
        "c = '0'\n",
        "d = '2'\n",
        "\n",
        "c = int(c)\n",
        "d = int(d)\n",
        "sum_2 = c + d\n",
        "print(sum_2)\n",
        "\n",
        "# C)\n",
        "e = '0'\n",
        "f = 2\n",
        "\n",
        "e = int(e)\n",
        "sum_3 = e + f\n",
        "print(sum_3)"
      ],
      "execution_count": 0,
      "outputs": [
        {
          "output_type": "stream",
          "text": [
            "2\n",
            "2\n",
            "2\n"
          ],
          "name": "stdout"
        }
      ]
    },
    {
      "cell_type": "markdown",
      "metadata": {
        "id": "T4rtuQ1CVrWr",
        "colab_type": "text"
      },
      "source": [
        "\n",
        "\n",
        "### P4.PY\n",
        "\n",
        "\n"
      ]
    },
    {
      "cell_type": "code",
      "metadata": {
        "id": "eCkVtKI8VrWs",
        "colab_type": "code",
        "outputId": "9070efc9-e9f3-4504-a7b5-63b21b3d4c20",
        "colab": {
          "base_uri": "https://localhost:8080/",
          "height": 68
        }
      },
      "source": [
        "\"\"\"\n",
        "Addition II - Booleans\n",
        "\"\"\"\n",
        "\n",
        "# Add the below sets of variables together.\n",
        "\n",
        "# A)\n",
        "a = True\n",
        "b = True\n",
        "\n",
        "sum_A = a + b\n",
        "print(sum_A)\n",
        "\n",
        "# B)\n",
        "c = False\n",
        "d = False\n",
        "\n",
        "sum_B = c + d\n",
        "print(sum_B)\n",
        "\n",
        "# C)\n",
        "e = True\n",
        "f = False\n",
        "\n",
        "sum_C = e + f\n",
        "print(sum_C)"
      ],
      "execution_count": 0,
      "outputs": [
        {
          "output_type": "stream",
          "text": [
            "2\n",
            "0\n",
            "1\n"
          ],
          "name": "stdout"
        }
      ]
    },
    {
      "cell_type": "markdown",
      "metadata": {
        "id": "0o8YPHxoVrWL",
        "colab_type": "text"
      },
      "source": [
        "## TYPECASTING\n",
        "\n"
      ]
    },
    {
      "cell_type": "markdown",
      "metadata": {
        "id": "XlNf2YptWKVu",
        "colab_type": "text"
      },
      "source": [
        "### P1.PY"
      ]
    },
    {
      "cell_type": "code",
      "metadata": {
        "id": "LDgWvrWzVrWM",
        "colab_type": "code",
        "outputId": "64703450-84ba-44f4-f4c7-23f4eb0246ce",
        "colab": {
          "base_uri": "https://localhost:8080/",
          "height": 340
        }
      },
      "source": [
        "\"\"\"\n",
        "Typcasting w. Integers & Floats\n",
        "\"\"\"\n",
        "\n",
        "# Convert these numbers into floats and back. Print out each result as well as its data type.\n",
        "\n",
        "five = 5\n",
        "zero = 0\n",
        "neg_8 = -8\n",
        "neg_22 = -22\n",
        "\n",
        "output_comment1 = \"\"\"float type:\"\"\"\n",
        "five = float(five)\n",
        "zero = float(zero)\n",
        "neg_8 = float(neg_8)\n",
        "neg_22 = float(neg_22)\n",
        "\n",
        "print(output_comment1)\n",
        "print(five)\n",
        "print(type(five))\n",
        "print(zero)\n",
        "print(type(zero))\n",
        "print(neg_8)\n",
        "print(type(neg_8))\n",
        "print(neg_22)\n",
        "print(type(neg_22))\n",
        "\n",
        "output_comment2 = \"\"\"\n",
        "integer type:\"\"\"\n",
        "five = int(five)\n",
        "zero = int(zero)\n",
        "neg_8 = int(neg_8)\n",
        "neg_22 =  int(neg_22)\n",
        "\n",
        "print(output_comment2)\n",
        "print(five)\n",
        "print(type(five))\n",
        "print(zero)\n",
        "print(type(zero))\n",
        "print(neg_8)\n",
        "print(type(neg_8))\n",
        "print(neg_22)\n",
        "print(type(neg_22))"
      ],
      "execution_count": 0,
      "outputs": [
        {
          "output_type": "stream",
          "text": [
            "float type:\n",
            "5.0\n",
            "<class 'float'>\n",
            "0.0\n",
            "<class 'float'>\n",
            "-8.0\n",
            "<class 'float'>\n",
            "-22.0\n",
            "<class 'float'>\n",
            "\n",
            "integer type:\n",
            "5\n",
            "<class 'int'>\n",
            "0\n",
            "<class 'int'>\n",
            "-8\n",
            "<class 'int'>\n",
            "-22\n",
            "<class 'int'>\n"
          ],
          "name": "stdout"
        }
      ]
    },
    {
      "cell_type": "markdown",
      "metadata": {
        "id": "HWOwfU00VrWS",
        "colab_type": "text"
      },
      "source": [
        "\n",
        "\n",
        "### P2.PY\n",
        "\n",
        "\n"
      ]
    },
    {
      "cell_type": "code",
      "metadata": {
        "id": "_5-k5J4mVrWT",
        "colab_type": "code",
        "outputId": "8e45a74e-e2da-45ca-ad53-c59fa450d7b0",
        "colab": {
          "base_uri": "https://localhost:8080/",
          "height": 476
        }
      },
      "source": [
        "\"\"\"\n",
        "Typcasting w. Strings\n",
        "\"\"\"\n",
        "\n",
        "# Convert these variables into strings and then back to their original data types. \n",
        "# Print out each result as well as its data type. What do you notice about the last one?\n",
        "\n",
        "five = 5\n",
        "zero = 0\n",
        "neg_8 = -8\n",
        "T = True\n",
        "F = False\n",
        "\n",
        "comment1 = \"convert to string:\"\n",
        "print(comment1)\n",
        "\n",
        "five = str(five)\n",
        "zero = str(zero)\n",
        "neg_8 = str(neg_8)\n",
        "T = str(T)\n",
        "F = str(F)\n",
        "\n",
        "print(five)\n",
        "print(type(five))\n",
        "print(zero)\n",
        "print(type(zero))\n",
        "print(neg_8)\n",
        "print(type(neg_8))\n",
        "print(T)\n",
        "print(type(T))\n",
        "print(F)\n",
        "print(type(F))\n",
        "\n",
        "comment2 = \"\"\"\n",
        "convert back to original type:\"\"\"\n",
        "print(comment2)\n",
        "\n",
        "five = int(five)\n",
        "zero = int(zero)\n",
        "neg_8 = int(neg_8)\n",
        "T = bool(T)\n",
        "F = bool(F)\n",
        "\n",
        "print(five)\n",
        "print(type(five))\n",
        "print(zero)\n",
        "print(type(zero))\n",
        "print(neg_8)\n",
        "print(type(neg_8))\n",
        "print(T)\n",
        "print(type(T))\n",
        "print(F)\n",
        "print(type(F))\n",
        "\n",
        "printing = \"\"\"\n",
        "What happens is that \"F\" is converted to True \n",
        "because only empty variables \n",
        "are converted to False\"\"\"\n",
        "print(printing)"
      ],
      "execution_count": 0,
      "outputs": [
        {
          "output_type": "stream",
          "text": [
            "convert to string:\n",
            "5\n",
            "<class 'str'>\n",
            "0\n",
            "<class 'str'>\n",
            "-8\n",
            "<class 'str'>\n",
            "True\n",
            "<class 'str'>\n",
            "False\n",
            "<class 'str'>\n",
            "\n",
            "convert back to original type:\n",
            "5\n",
            "<class 'int'>\n",
            "0\n",
            "<class 'int'>\n",
            "-8\n",
            "<class 'int'>\n",
            "True\n",
            "<class 'bool'>\n",
            "True\n",
            "<class 'bool'>\n",
            "\n",
            "What happens is that \"F\" is converted to True \n",
            "because only empty variables \n",
            "are converted to False\n"
          ],
          "name": "stdout"
        }
      ]
    },
    {
      "cell_type": "markdown",
      "metadata": {
        "id": "FO_LansxVrWV",
        "colab_type": "text"
      },
      "source": [
        "\n",
        "\n",
        "### P3.PY\n",
        "\n",
        "\n"
      ]
    },
    {
      "cell_type": "code",
      "metadata": {
        "id": "bSVcghffVrWW",
        "colab_type": "code",
        "outputId": "08155616-7b4f-4bac-84f4-bccaa596338f",
        "colab": {
          "base_uri": "https://localhost:8080/",
          "height": 493
        }
      },
      "source": [
        "\"\"\"\n",
        "Booleans I - Typecasting w. Numbers\n",
        "\"\"\"\n",
        "\n",
        "# A) Use typecasting to turn these variables into boolean values. Print the result and the datatype of the result. \n",
        "\n",
        "one = 1\n",
        "zero = 0\n",
        "\n",
        "print(\"\"\"\n",
        "A)\"\"\")\n",
        "\n",
        "one = bool(one)\n",
        "zero = bool(zero)\n",
        "\n",
        "print(one)\n",
        "print(type(one))\n",
        "print(zero)\n",
        "print(type(zero))\n",
        "\n",
        "# B) Use typecasting to turn the resultant variables from part A into floats. Print the result and the datatype of the result.\n",
        "\n",
        "print(\"\"\"\n",
        "B)\"\"\")\n",
        "one = float(one)\n",
        "zero = float(zero)\n",
        "\n",
        "print(one)\n",
        "print(type(one))\n",
        "print(zero)\n",
        "print(type(zero))\n",
        "\n",
        "# C) Use typecasting to turn the resultant variables from part B back into booleans. Print the result and the datatype of the result.\n",
        "\n",
        "print(\"\"\"\n",
        "C)\"\"\")\n",
        "one = bool(one)\n",
        "zero = bool(zero)\n",
        "\n",
        "print(one)\n",
        "print(type(one))\n",
        "print(zero)\n",
        "print(type(zero))\n",
        "\n",
        "# D) Use typecasting to turn the resultant variables from part C into integers. Print the result and the datatype of the result.\n",
        "\n",
        "print(\"\"\"\n",
        "D)\"\"\")\n",
        "\n",
        "one = int(one)\n",
        "zero = int(zero)\n",
        "\n",
        "print(one)\n",
        "print(type(one))\n",
        "print(zero)\n",
        "print(type(zero))\n",
        "\n",
        "# E) Use typecasting to turn the variable below into a boolean value. Print the result and the datatype of the result. \n",
        "\n",
        "ten = 10\n",
        "\n",
        "print(\"\"\"\n",
        "E)\"\"\")\n",
        "ten = bool(10)\n",
        "\n",
        "print(ten)\n",
        "print(type(ten))\n"
      ],
      "execution_count": 0,
      "outputs": [
        {
          "output_type": "stream",
          "text": [
            "\n",
            "A)\n",
            "True\n",
            "<class 'bool'>\n",
            "False\n",
            "<class 'bool'>\n",
            "\n",
            "B)\n",
            "1.0\n",
            "<class 'float'>\n",
            "0.0\n",
            "<class 'float'>\n",
            "\n",
            "C)\n",
            "True\n",
            "<class 'bool'>\n",
            "False\n",
            "<class 'bool'>\n",
            "\n",
            "D)\n",
            "1\n",
            "<class 'int'>\n",
            "0\n",
            "<class 'int'>\n",
            "\n",
            "E)\n",
            "True\n",
            "<class 'bool'>\n"
          ],
          "name": "stdout"
        }
      ]
    },
    {
      "cell_type": "markdown",
      "metadata": {
        "id": "Q7lEbfSQVrWc",
        "colab_type": "text"
      },
      "source": [
        "\n",
        "\n",
        "### P4.PY\n",
        "\n",
        "\n"
      ]
    },
    {
      "cell_type": "code",
      "metadata": {
        "id": "YFLt2TDXVrWf",
        "colab_type": "code",
        "outputId": "49fa9eca-b349-4507-e486-691f307ce71c",
        "colab": {
          "base_uri": "https://localhost:8080/",
          "height": 374
        }
      },
      "source": [
        "\"\"\"\n",
        "Booleans II - Typecasting w. Strings\n",
        "\"\"\"\n",
        "\n",
        "# A) Use typecasting to turn these variables into boolean values. Print the result and the datatype of the result. \n",
        "\n",
        "one = 1\n",
        "zero = 0\n",
        "T = True\n",
        "F = False\n",
        "\n",
        "print(\"A)\")\n",
        "one = bool(one)\n",
        "zero = bool(zero)\n",
        "T = bool(T)\n",
        "F = bool(F)\n",
        "\n",
        "print(one)\n",
        "print(type(one))\n",
        "print(zero)\n",
        "print(type(zero))\n",
        "print(T)\n",
        "print(type(T))\n",
        "print(F)\n",
        "print(type(F))\n",
        "\n",
        "\n",
        "# B) Use typecasting to turn the latest values for variables 'one' and 'zero' back into integers. Print the result and the datatype of the result.\n",
        "\n",
        "one = int(one)\n",
        "zero = int(zero)\n",
        "\n",
        "print(\"\"\"\n",
        "B)\"\"\")\n",
        "\n",
        "print(one)\n",
        "print(type(one))\n",
        "print(zero)\n",
        "print(type(zero))\n",
        "\n",
        "# C) Use typecasting to turn the latest values for variables 'T' and 'F' back into boolean values. Print the result and the datatype of the result.\n",
        "\n",
        "T = bool(T)\n",
        "F = bool(F)\n",
        "\n",
        "print(\"\"\"\n",
        "C)\"\"\")\n",
        "\n",
        "print(T)\n",
        "print(type(T))\n",
        "print(F)\n",
        "print(type(F))\n",
        "\n",
        "\n"
      ],
      "execution_count": 0,
      "outputs": [
        {
          "output_type": "stream",
          "text": [
            "A)\n",
            "True\n",
            "<class 'bool'>\n",
            "False\n",
            "<class 'bool'>\n",
            "True\n",
            "<class 'bool'>\n",
            "False\n",
            "<class 'bool'>\n",
            "\n",
            "B)\n",
            "1\n",
            "<class 'int'>\n",
            "0\n",
            "<class 'int'>\n",
            "\n",
            "C)\n",
            "True\n",
            "<class 'bool'>\n",
            "False\n",
            "<class 'bool'>\n"
          ],
          "name": "stdout"
        }
      ]
    },
    {
      "cell_type": "markdown",
      "metadata": {
        "id": "pRORE6K8VrWy",
        "colab_type": "text"
      },
      "source": [
        "## SHOPPING_LIST\n",
        "\n",
        "\n"
      ]
    },
    {
      "cell_type": "markdown",
      "metadata": {
        "id": "sX291wpjWQea",
        "colab_type": "text"
      },
      "source": [
        "### P1.PY"
      ]
    },
    {
      "cell_type": "code",
      "metadata": {
        "id": "kH5HZBmiVrWy",
        "colab_type": "code",
        "outputId": "bc97fa76-089d-4b9f-92a3-57f37dda881a",
        "colab": {
          "base_uri": "https://localhost:8080/",
          "height": 102
        }
      },
      "source": [
        "\"\"\"\n",
        "Shopping List Calculator I\n",
        "\"\"\"\n",
        "\n",
        "# Create five variables,\n",
        "# set them to strings that represent 5 common shopping list items\n",
        "\n",
        "\n",
        "item_name_1 = 'apples'\n",
        "item_name_2 = 'oranges'\n",
        "item_name_3 = 'almonds'\n",
        "item_name_4 = 'bread'\n",
        "item_name_5 = 'spinach'\n",
        "\n",
        "# Create five more variables,\n",
        "# set them to floats that represent the prices of each of the items above\n",
        "\n",
        "item_price_1 = 1.99\n",
        "item_price_2 = 1.49\n",
        "item_price_3 = 2.49\n",
        "item_price_4 = 3.99\n",
        "item_price_5 = 2.99\n",
        "\n",
        "# Create five more variables,\n",
        "# set them to ints that represent the quantity of each of the items above\n",
        "item_quant_1 = 2\n",
        "item_quant_2 = 3\n",
        "item_quant_3 = 50\n",
        "item_quant_4 = 1\n",
        "item_quant_5 = 12\n",
        "\n",
        "# Print to the console the name and price of each item defined above as follows:\n",
        "# 1 Coco Puffs = $8.95.\n",
        "# where:\n",
        "# 1 would be item_quant_1\n",
        "# Coco Puffs would be item_name_1\n",
        "# 8.95 would be item_name_2\n",
        "\n",
        "\n",
        "print(item_quant_1, item_name_1, '=', item_price_1)\n",
        "print(item_quant_2, item_name_2, '=', item_price_2)\n",
        "print(item_quant_3, item_name_3, '=', item_price_3)\n",
        "print(item_quant_4, item_name_4, '=', item_price_4)\n",
        "print(item_quant_5, item_name_5, '=', item_price_5)"
      ],
      "execution_count": 0,
      "outputs": [
        {
          "output_type": "stream",
          "text": [
            "2 apples = 1.99\n",
            "3 oranges = 1.49\n",
            "50 almonds = 2.49\n",
            "1 bread = 3.99\n",
            "12 spinach = 2.99\n"
          ],
          "name": "stdout"
        }
      ]
    },
    {
      "cell_type": "markdown",
      "metadata": {
        "id": "tr50TO3xVrW1",
        "colab_type": "text"
      },
      "source": [
        "\n",
        "\n",
        "### P2.PY\n",
        "\n",
        "\n"
      ]
    },
    {
      "cell_type": "code",
      "metadata": {
        "id": "_6WnvYbpVrW2",
        "colab_type": "code",
        "outputId": "42a9e400-6b1b-4174-c9ff-5a523fd35caf",
        "colab": {
          "base_uri": "https://localhost:8080/",
          "height": 357
        }
      },
      "source": [
        "\"\"\"\n",
        "Shopping List Calculator II\n",
        "\"\"\"\n",
        "\n",
        "# Rewrite p1, but this time use the input() command to solicit user input for name, price, quantity. Here's how it works:\n",
        "\n",
        "# item_name_1 = input('Name your first item: ') \n",
        "\t# ^ this will ask user to input value of item_name_1\n",
        "\n",
        "# use input() function and ask user to name items\n",
        "item_name_1 = input('Name your first item: ')\n",
        "item_name_2 = input('Name your second item: ')\n",
        "item_name_3 = input('Name your third item: ')\n",
        "item_name_4 = input('Name your fourth item: ')\n",
        "item_name_5 = input('Name your fifth item: ')\n",
        "\n",
        "# use input() function and ask user to name prices\n",
        "item_price_1 = float(input('What is the price of your first item?: '))\n",
        "item_price_2 = float(input('What is the price of your second item?: '))\n",
        "item_price_3 = float(input('What is the price of your third item?: '))\n",
        "item_price_4 = float(input('What is the price of your fourth item?: '))\n",
        "item_price_5 = float(input('What is the price of your fifth item?: '))\n",
        "\n",
        "# use input() function and ask user to name quants\n",
        "item_quant_1 = int(input('What is the amount of your first item?: '))\n",
        "item_quant_2 = int(input('What is the amount of your second item?: '))\n",
        "item_quant_3 = int(input('What is the amount of your third item?: '))\n",
        "item_quant_4 = int(input('What is the amount of your fourth item?: '))\n",
        "item_quant_5 = int(input('What is the amount of your fifth item?: '))\n",
        "\n",
        "# Print to the console the name and price of each item defined above as follows:\n",
        "# 1 Coco Puffs = $8.95.\n",
        "# where:\n",
        "# 1 would be item_quant_1\n",
        "# Coco Puffs would be item_name_1\n",
        "# 8.95 would be item_name_2\n",
        "\n",
        "print(f'{item_quant_1} {item_name_1} = ${item_quant_1 * item_price_1}')\n",
        "print(f'{item_quant_2} {item_name_2} = ${item_quant_2 * item_price_2}')\n",
        "print(f'{item_quant_3} {item_name_3} = ${item_quant_3 * item_price_3}')\n",
        "print(f'{item_quant_4} {item_name_4} = ${item_quant_4 * item_price_4}')\n",
        "print(f'{item_quant_5} {item_name_5} = ${item_quant_5 * item_price_5}')\n",
        "\n",
        "# JUST REMEMBER: now this will be defined by the user!!\n"
      ],
      "execution_count": 11,
      "outputs": [
        {
          "output_type": "stream",
          "text": [
            "Name your first item: peas\n",
            "Name your second item: beans\n",
            "Name your third item: rice\n",
            "Name your fourth item: lentis\n",
            "Name your fifth item: bread\n",
            "What is the price of your first item?: 1\n",
            "What is the price of your second item?: 3\n",
            "What is the price of your third item?: 3\n",
            "What is the price of your fourth item?: 3\n",
            "What is the price of your fifth item?: 3\n",
            "What is the amount of your first item?: 200\n",
            "What is the amount of your second item?: 5\n",
            "What is the amount of your third item?: 5\n",
            "What is the amount of your fourth item?: 5\n",
            "What is the amount of your fifth item?: 5\n",
            "200 peas = $200.0\n",
            "5 beans = $15.0\n",
            "5 rice = $15.0\n",
            "5 lentis = $15.0\n",
            "5 bread = $15.0\n"
          ],
          "name": "stdout"
        }
      ]
    },
    {
      "cell_type": "markdown",
      "metadata": {
        "id": "vgZcfv-zVrW4",
        "colab_type": "text"
      },
      "source": [
        "\n"
      ]
    }
  ]
}